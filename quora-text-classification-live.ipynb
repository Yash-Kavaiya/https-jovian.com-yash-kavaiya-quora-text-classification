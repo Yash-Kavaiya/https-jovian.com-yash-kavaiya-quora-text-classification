{
 "cells": [
  {
   "cell_type": "markdown",
   "metadata": {
    "id": "tBxC0flTQDd3"
   },
   "source": [
    "# Text Classification with Bag of Words - Natural Language Processing\n",
    "\n",
    "![](https://i.imgur.com/hlEQ5X8.png)\n",
    "\n",
    "> _\"Natural language processing (NLP) is a subfield of linguistics, computer science, and artificial intelligence concerned with the interactions between computers and human language, in particular how to program computers to process and analyze large amounts of natural language data.\"_ - Wikipedia\n",
    "\n",
    "> _**Bag of Words**: The bag-of-words (BOW) model is a representation that turns arbitrary text into fixed-length vectors by counting how many times each word appears._\n",
    " \n",
    "Outline:\n",
    "\n",
    "1. Download and explore a real-world dataset\n",
    "2. Apply text preprocessing techniques\n",
    "3. Implement the bag of words model\n",
    "4. Train ML models for text classification\n",
    "5. Make predictions and submit to Kaggle\n",
    "\n",
    "\n",
    "Dataset: https://www.kaggle.com/c/quora-insincere-questions-classification\n",
    "\n"
   ]
  },
  {
   "cell_type": "markdown",
   "metadata": {
    "id": "ZOcWwlvxQoSJ"
   },
   "source": [
    "## Download and Explore the Data\n",
    "\n",
    "Outline:\n",
    "\n",
    "1. Download the dataset from Kaggle to Colab\n",
    "2. Explore the data using Pandas\n",
    "3. Create a small working sample"
   ]
  },
  {
   "cell_type": "markdown",
   "metadata": {
    "id": "xCBkYxdzRPPq"
   },
   "source": [
    "### Download the Data to Colab\n",
    "\n",
    "Upload your `kaggle.json` to Colab. Get it here: https://www.kaggle.com/docs/api#authentication\n",
    "\n"
   ]
  },
  {
   "cell_type": "code",
   "execution_count": 14,
   "metadata": {},
   "outputs": [
    {
     "name": "stdout",
     "output_type": "stream",
     "text": [
      "Collecting kaggle\n",
      "  Downloading kaggle-1.5.16.tar.gz (83 kB)\n",
      "     |████████████████████████████████| 83 kB 4.0 MB/s             \n",
      "\u001b[?25h  Preparing metadata (setup.py) ... \u001b[?25ldone\n",
      "\u001b[?25hRequirement already satisfied: six>=1.10 in /opt/conda/lib/python3.9/site-packages (from kaggle) (1.16.0)\n",
      "Requirement already satisfied: certifi in /opt/conda/lib/python3.9/site-packages (from kaggle) (2021.10.8)\n",
      "Requirement already satisfied: python-dateutil in /opt/conda/lib/python3.9/site-packages (from kaggle) (2.8.2)\n",
      "Requirement already satisfied: requests in /opt/conda/lib/python3.9/site-packages (from kaggle) (2.26.0)\n",
      "Requirement already satisfied: tqdm in /opt/conda/lib/python3.9/site-packages (from kaggle) (4.62.3)\n",
      "Collecting python-slugify\n",
      "  Downloading python_slugify-8.0.1-py2.py3-none-any.whl (9.7 kB)\n",
      "Requirement already satisfied: urllib3 in /opt/conda/lib/python3.9/site-packages (from kaggle) (1.26.7)\n",
      "Requirement already satisfied: bleach in /opt/conda/lib/python3.9/site-packages (from kaggle) (4.1.0)\n",
      "Requirement already satisfied: webencodings in /opt/conda/lib/python3.9/site-packages (from bleach->kaggle) (0.5.1)\n",
      "Requirement already satisfied: packaging in /opt/conda/lib/python3.9/site-packages (from bleach->kaggle) (21.2)\n",
      "Collecting text-unidecode>=1.3\n",
      "  Downloading text_unidecode-1.3-py2.py3-none-any.whl (78 kB)\n",
      "     |████████████████████████████████| 78 kB 11.7 MB/s            \n",
      "\u001b[?25hRequirement already satisfied: charset-normalizer~=2.0.0 in /opt/conda/lib/python3.9/site-packages (from requests->kaggle) (2.0.0)\n",
      "Requirement already satisfied: idna<4,>=2.5 in /opt/conda/lib/python3.9/site-packages (from requests->kaggle) (3.1)\n",
      "Requirement already satisfied: pyparsing<3,>=2.0.2 in /opt/conda/lib/python3.9/site-packages (from packaging->bleach->kaggle) (2.4.7)\n",
      "Building wheels for collected packages: kaggle\n",
      "  Building wheel for kaggle (setup.py) ... \u001b[?25ldone\n",
      "\u001b[?25h  Created wheel for kaggle: filename=kaggle-1.5.16-py3-none-any.whl size=110701 sha256=a256fc85e0ba784235da2a229c3d74728bfbac1c73ccff8ca28485efae5732cc\n",
      "  Stored in directory: /home/jovyan/.cache/pip/wheels/d2/ed/a5/da3a0cfb13373d1ace41cafa4f2467d858c55c52473ba72799\n",
      "Successfully built kaggle\n",
      "Installing collected packages: text-unidecode, python-slugify, kaggle\n",
      "Successfully installed kaggle-1.5.16 python-slugify-8.0.1 text-unidecode-1.3\n"
     ]
    }
   ],
   "source": [
    "!pip install kaggle"
   ]
  },
  {
   "cell_type": "code",
   "execution_count": 3,
   "metadata": {
    "colab": {
     "base_uri": "https://localhost:8080/"
    },
    "executionInfo": {
     "elapsed": 1627,
     "status": "ok",
     "timestamp": 1667911859298,
     "user": {
      "displayName": "Aakash N S",
      "userId": "03254185060287524023"
     },
     "user_tz": -330
    },
    "id": "Y-gnbjWgRg13",
    "outputId": "c2277c8e-c5b9-4ebf-ac12-76939826bc07"
   },
   "outputs": [
    {
     "name": "stdout",
     "output_type": "stream",
     "text": [
      ".   .git\t\t.jovianrc    quora-text-classification-live.ipynb\r\n",
      "..  .ipynb_checkpoints\tkaggle.json\r\n"
     ]
    }
   ],
   "source": [
    "!ls -a"
   ]
  },
  {
   "cell_type": "code",
   "execution_count": 4,
   "metadata": {
    "executionInfo": {
     "elapsed": 1,
     "status": "ok",
     "timestamp": 1667911861246,
     "user": {
      "displayName": "Aakash N S",
      "userId": "03254185060287524023"
     },
     "user_tz": -330
    },
    "id": "ADfR5g8MSZ0_"
   },
   "outputs": [],
   "source": [
    "import os"
   ]
  },
  {
   "cell_type": "code",
   "execution_count": 17,
   "metadata": {
    "executionInfo": {
     "elapsed": 371,
     "status": "ok",
     "timestamp": 1667918186535,
     "user": {
      "displayName": "Aakash N S",
      "userId": "03254185060287524023"
     },
     "user_tz": -330
    },
    "id": "ixLiVhlOq7pr"
   },
   "outputs": [],
   "source": [
    "IS_KAGGLE = 'KAGGLE_KERNEL_RUN_TYPE' in os.environ"
   ]
  },
  {
   "cell_type": "code",
   "execution_count": 18,
   "metadata": {
    "colab": {
     "base_uri": "https://localhost:8080/"
    },
    "executionInfo": {
     "elapsed": 3782,
     "status": "ok",
     "timestamp": 1667918196521,
     "user": {
      "displayName": "Aakash N S",
      "userId": "03254185060287524023"
     },
     "user_tz": -330
    },
    "id": "Wizvk8maq546",
    "outputId": "bb8ced58-eb20-4430-db02-6d09e4b2f1d6"
   },
   "outputs": [
    {
     "data": {
      "text/plain": [
       "False"
      ]
     },
     "execution_count": 18,
     "metadata": {},
     "output_type": "execute_result"
    }
   ],
   "source": [
    "IS_KAGGLE"
   ]
  },
  {
   "cell_type": "code",
   "execution_count": 19,
   "metadata": {},
   "outputs": [
    {
     "name": "stdout",
     "output_type": "stream",
     "text": [
      "Warning: Your Kaggle API key is readable by other users on this system! To fix this, you can run 'chmod 600 ./kaggle.json'\n",
      "Downloading train.csv.zip to data\n",
      " 98%|█████████████████████████████████████▎| 54.0M/54.9M [00:05<00:00, 12.4MB/s]\n",
      "100%|██████████████████████████████████████| 54.9M/54.9M [00:05<00:00, 10.9MB/s]\n",
      "Warning: Your Kaggle API key is readable by other users on this system! To fix this, you can run 'chmod 600 ./kaggle.json'\n",
      "Downloading test.csv.zip to data\n",
      "100%|██████████████████████████████████████| 15.8M/15.8M [00:02<00:00, 14.3MB/s]\n",
      "100%|██████████████████████████████████████| 15.8M/15.8M [00:02<00:00, 6.37MB/s]\n",
      "Warning: Your Kaggle API key is readable by other users on this system! To fix this, you can run 'chmod 600 ./kaggle.json'\n",
      "Downloading sample_submission.csv.zip to data\n",
      " 73%|███████████████████████████▉          | 3.00M/4.09M [00:01<00:00, 2.32MB/s]\n",
      "100%|██████████████████████████████████████| 4.09M/4.09M [00:01<00:00, 2.26MB/s]\n"
     ]
    }
   ],
   "source": [
    "if IS_KAGGLE:\n",
    "    data_dir = '../input/quora-insincere-questions-classification'\n",
    "    train_fname = data_dir + '/train.csv'\n",
    "    test_fname = data_dir + '/test.csv'\n",
    "    sample_fname = data_dir + '/sample_submission.csv'\n",
    "else:\n",
    "    os.environ['KAGGLE_CONFIG_DIR'] = '.'\n",
    "    !kaggle competitions download -c quora-insincere-questions-classification -f train.csv -p data\n",
    "    !kaggle competitions download -c quora-insincere-questions-classification -f test.csv -p data\n",
    "    !kaggle competitions download -c quora-insincere-questions-classification -f sample_submission.csv -p data\n",
    "    train_fname = 'data/train.csv.zip'\n",
    "    test_fname = 'data/test.csv.zip'\n",
    "    sample_fname = 'data/sample_submission.csv.zip' "
   ]
  },
  {
   "cell_type": "markdown",
   "metadata": {
    "id": "Ql6Gv4shTSBJ"
   },
   "source": [
    "### Explore the Data using Pandas"
   ]
  },
  {
   "cell_type": "code",
   "execution_count": 20,
   "metadata": {},
   "outputs": [],
   "source": [
    "import pandas as pd"
   ]
  },
  {
   "cell_type": "code",
   "execution_count": 21,
   "metadata": {
    "executionInfo": {
     "elapsed": 358,
     "status": "ok",
     "timestamp": 1667912043319,
     "user": {
      "displayName": "Aakash N S",
      "userId": "03254185060287524023"
     },
     "user_tz": -330
    },
    "id": "pf65NRzdQ-hU"
   },
   "outputs": [],
   "source": [
    "raw_df = pd.read_csv(train_fname)"
   ]
  },
  {
   "cell_type": "code",
   "execution_count": 22,
   "metadata": {
    "executionInfo": {
     "elapsed": 4754,
     "status": "ok",
     "timestamp": 1667912065510,
     "user": {
      "displayName": "Aakash N S",
      "userId": "03254185060287524023"
     },
     "user_tz": -330
    },
    "id": "H1FjN5gDTfUY"
   },
   "outputs": [
    {
     "data": {
      "text/html": [
       "<div>\n",
       "<style scoped>\n",
       "    .dataframe tbody tr th:only-of-type {\n",
       "        vertical-align: middle;\n",
       "    }\n",
       "\n",
       "    .dataframe tbody tr th {\n",
       "        vertical-align: top;\n",
       "    }\n",
       "\n",
       "    .dataframe thead th {\n",
       "        text-align: right;\n",
       "    }\n",
       "</style>\n",
       "<table border=\"1\" class=\"dataframe\">\n",
       "  <thead>\n",
       "    <tr style=\"text-align: right;\">\n",
       "      <th></th>\n",
       "      <th>qid</th>\n",
       "      <th>question_text</th>\n",
       "      <th>target</th>\n",
       "    </tr>\n",
       "  </thead>\n",
       "  <tbody>\n",
       "    <tr>\n",
       "      <th>0</th>\n",
       "      <td>00002165364db923c7e6</td>\n",
       "      <td>How did Quebec nationalists see their province...</td>\n",
       "      <td>0</td>\n",
       "    </tr>\n",
       "    <tr>\n",
       "      <th>1</th>\n",
       "      <td>000032939017120e6e44</td>\n",
       "      <td>Do you have an adopted dog, how would you enco...</td>\n",
       "      <td>0</td>\n",
       "    </tr>\n",
       "    <tr>\n",
       "      <th>2</th>\n",
       "      <td>0000412ca6e4628ce2cf</td>\n",
       "      <td>Why does velocity affect time? Does velocity a...</td>\n",
       "      <td>0</td>\n",
       "    </tr>\n",
       "    <tr>\n",
       "      <th>3</th>\n",
       "      <td>000042bf85aa498cd78e</td>\n",
       "      <td>How did Otto von Guericke used the Magdeburg h...</td>\n",
       "      <td>0</td>\n",
       "    </tr>\n",
       "    <tr>\n",
       "      <th>4</th>\n",
       "      <td>0000455dfa3e01eae3af</td>\n",
       "      <td>Can I convert montra helicon D to a mountain b...</td>\n",
       "      <td>0</td>\n",
       "    </tr>\n",
       "    <tr>\n",
       "      <th>...</th>\n",
       "      <td>...</td>\n",
       "      <td>...</td>\n",
       "      <td>...</td>\n",
       "    </tr>\n",
       "    <tr>\n",
       "      <th>1306117</th>\n",
       "      <td>ffffcc4e2331aaf1e41e</td>\n",
       "      <td>What other technical skills do you need as a c...</td>\n",
       "      <td>0</td>\n",
       "    </tr>\n",
       "    <tr>\n",
       "      <th>1306118</th>\n",
       "      <td>ffffd431801e5a2f4861</td>\n",
       "      <td>Does MS in ECE have good job prospects in USA ...</td>\n",
       "      <td>0</td>\n",
       "    </tr>\n",
       "    <tr>\n",
       "      <th>1306119</th>\n",
       "      <td>ffffd48fb36b63db010c</td>\n",
       "      <td>Is foam insulation toxic?</td>\n",
       "      <td>0</td>\n",
       "    </tr>\n",
       "    <tr>\n",
       "      <th>1306120</th>\n",
       "      <td>ffffec519fa37cf60c78</td>\n",
       "      <td>How can one start a research project based on ...</td>\n",
       "      <td>0</td>\n",
       "    </tr>\n",
       "    <tr>\n",
       "      <th>1306121</th>\n",
       "      <td>ffffed09fedb5088744a</td>\n",
       "      <td>Who wins in a battle between a Wolverine and a...</td>\n",
       "      <td>0</td>\n",
       "    </tr>\n",
       "  </tbody>\n",
       "</table>\n",
       "<p>1306122 rows × 3 columns</p>\n",
       "</div>"
      ],
      "text/plain": [
       "                          qid  \\\n",
       "0        00002165364db923c7e6   \n",
       "1        000032939017120e6e44   \n",
       "2        0000412ca6e4628ce2cf   \n",
       "3        000042bf85aa498cd78e   \n",
       "4        0000455dfa3e01eae3af   \n",
       "...                       ...   \n",
       "1306117  ffffcc4e2331aaf1e41e   \n",
       "1306118  ffffd431801e5a2f4861   \n",
       "1306119  ffffd48fb36b63db010c   \n",
       "1306120  ffffec519fa37cf60c78   \n",
       "1306121  ffffed09fedb5088744a   \n",
       "\n",
       "                                             question_text  target  \n",
       "0        How did Quebec nationalists see their province...       0  \n",
       "1        Do you have an adopted dog, how would you enco...       0  \n",
       "2        Why does velocity affect time? Does velocity a...       0  \n",
       "3        How did Otto von Guericke used the Magdeburg h...       0  \n",
       "4        Can I convert montra helicon D to a mountain b...       0  \n",
       "...                                                    ...     ...  \n",
       "1306117  What other technical skills do you need as a c...       0  \n",
       "1306118  Does MS in ECE have good job prospects in USA ...       0  \n",
       "1306119                          Is foam insulation toxic?       0  \n",
       "1306120  How can one start a research project based on ...       0  \n",
       "1306121  Who wins in a battle between a Wolverine and a...       0  \n",
       "\n",
       "[1306122 rows x 3 columns]"
      ]
     },
     "execution_count": 22,
     "metadata": {},
     "output_type": "execute_result"
    }
   ],
   "source": [
    "raw_df"
   ]
  },
  {
   "cell_type": "code",
   "execution_count": 29,
   "metadata": {
    "colab": {
     "base_uri": "https://localhost:8080/",
     "height": 424
    },
    "executionInfo": {
     "elapsed": 474,
     "status": "ok",
     "timestamp": 1667912069885,
     "user": {
      "displayName": "Aakash N S",
      "userId": "03254185060287524023"
     },
     "user_tz": -330
    },
    "id": "CHMgt_5iTfRt",
    "outputId": "7ad71a7a-b478-4a42-bce0-ee467479480f"
   },
   "outputs": [
    {
     "data": {
      "text/plain": [
       "<AxesSubplot:>"
      ]
     },
     "execution_count": 29,
     "metadata": {},
     "output_type": "execute_result"
    },
    {
     "data": {
      "image/png": "[encoded data removed]",
      "text/plain": [
       "<Figure size 432x288 with 1 Axes>"
      ]
     },
     "metadata": {
      "needs_background": "light"
     },
     "output_type": "display_data"
    }
   ],
   "source": [
    "raw_df.target.value_counts().plot(kind='bar')"
   ]
  },
  {
   "cell_type": "code",
   "execution_count": 28,
   "metadata": {},
   "outputs": [
    {
     "data": {
      "text/plain": [
       "0    0.93813\n",
       "1    0.06187\n",
       "Name: target, dtype: float64"
      ]
     },
     "execution_count": 28,
     "metadata": {},
     "output_type": "execute_result"
    }
   ],
   "source": [
    "raw_df.target.value_counts(normalize=True)"
   ]
  },
  {
   "cell_type": "code",
   "execution_count": 27,
   "metadata": {
    "executionInfo": {
     "elapsed": 382,
     "status": "ok",
     "timestamp": 1667912255712,
     "user": {
      "displayName": "Aakash N S",
      "userId": "03254185060287524023"
     },
     "user_tz": -330
    },
    "id": "wV2xGZ3STfPx"
   },
   "outputs": [
    {
     "data": {
      "text/plain": [
       "<AxesSubplot:>"
      ]
     },
     "execution_count": 27,
     "metadata": {},
     "output_type": "execute_result"
    },
    {
     "data": {
      "image/png": "[encoded data removed]",
      "text/plain": [
       "<Figure size 432x288 with 1 Axes>"
      ]
     },
     "metadata": {
      "needs_background": "light"
     },
     "output_type": "display_data"
    }
   ],
   "source": [
    "raw_df.target.value_counts(normalize=True).plot(kind='bar')"
   ]
  },
  {
   "cell_type": "code",
   "execution_count": 30,
   "metadata": {
    "colab": {
     "base_uri": "https://localhost:8080/"
    },
    "executionInfo": {
     "elapsed": 375,
     "status": "ok",
     "timestamp": 1667912261902,
     "user": {
      "displayName": "Aakash N S",
      "userId": "03254185060287524023"
     },
     "user_tz": -330
    },
    "id": "me4srOFdUMCQ",
    "outputId": "6f5e9340-bdb2-4c22-b75e-57177ccf6ea9"
   },
   "outputs": [],
   "source": [
    "sincere_df = raw_df[raw_df.target == 0]"
   ]
  },
  {
   "cell_type": "code",
   "execution_count": 31,
   "metadata": {
    "executionInfo": {
     "elapsed": 572,
     "status": "ok",
     "timestamp": 1667912293701,
     "user": {
      "displayName": "Aakash N S",
      "userId": "03254185060287524023"
     },
     "user_tz": -330
    },
    "id": "cTApBtxIUMAJ"
   },
   "outputs": [],
   "source": [
    "insincere_df = raw_df[raw_df.target == 1]"
   ]
  },
  {
   "cell_type": "code",
   "execution_count": 32,
   "metadata": {
    "colab": {
     "base_uri": "https://localhost:8080/"
    },
    "executionInfo": {
     "elapsed": 652,
     "status": "ok",
     "timestamp": 1667912301181,
     "user": {
      "displayName": "Aakash N S",
      "userId": "03254185060287524023"
     },
     "user_tz": -330
    },
    "id": "-nFN5bZVUL91",
    "outputId": "ce551e6c-3255-408d-9182-4408269d67bf"
   },
   "outputs": [],
   "source": [
    "test_df = pd.read_csv(test_fname)"
   ]
  },
  {
   "cell_type": "code",
   "execution_count": 33,
   "metadata": {
    "colab": {
     "base_uri": "https://localhost:8080/"
    },
    "executionInfo": {
     "elapsed": 431,
     "status": "ok",
     "timestamp": 1667912372012,
     "user": {
      "displayName": "Aakash N S",
      "userId": "03254185060287524023"
     },
     "user_tz": -330
    },
    "id": "n2VQSfKmUn7Z",
    "outputId": "abe27eed-82e0-472d-f0bb-3c28a5a77b06"
   },
   "outputs": [
    {
     "data": {
      "text/html": [
       "<div>\n",
       "<style scoped>\n",
       "    .dataframe tbody tr th:only-of-type {\n",
       "        vertical-align: middle;\n",
       "    }\n",
       "\n",
       "    .dataframe tbody tr th {\n",
       "        vertical-align: top;\n",
       "    }\n",
       "\n",
       "    .dataframe thead th {\n",
       "        text-align: right;\n",
       "    }\n",
       "</style>\n",
       "<table border=\"1\" class=\"dataframe\">\n",
       "  <thead>\n",
       "    <tr style=\"text-align: right;\">\n",
       "      <th></th>\n",
       "      <th>qid</th>\n",
       "      <th>question_text</th>\n",
       "    </tr>\n",
       "  </thead>\n",
       "  <tbody>\n",
       "    <tr>\n",
       "      <th>0</th>\n",
       "      <td>0000163e3ea7c7a74cd7</td>\n",
       "      <td>Why do so many women become so rude and arroga...</td>\n",
       "    </tr>\n",
       "    <tr>\n",
       "      <th>1</th>\n",
       "      <td>00002bd4fb5d505b9161</td>\n",
       "      <td>When should I apply for RV college of engineer...</td>\n",
       "    </tr>\n",
       "    <tr>\n",
       "      <th>2</th>\n",
       "      <td>00007756b4a147d2b0b3</td>\n",
       "      <td>What is it really like to be a nurse practitio...</td>\n",
       "    </tr>\n",
       "    <tr>\n",
       "      <th>3</th>\n",
       "      <td>000086e4b7e1c7146103</td>\n",
       "      <td>Who are entrepreneurs?</td>\n",
       "    </tr>\n",
       "    <tr>\n",
       "      <th>4</th>\n",
       "      <td>0000c4c3fbe8785a3090</td>\n",
       "      <td>Is education really making good people nowadays?</td>\n",
       "    </tr>\n",
       "    <tr>\n",
       "      <th>...</th>\n",
       "      <td>...</td>\n",
       "      <td>...</td>\n",
       "    </tr>\n",
       "    <tr>\n",
       "      <th>375801</th>\n",
       "      <td>ffff7fa746bd6d6197a9</td>\n",
       "      <td>How many countries listed in gold import in in...</td>\n",
       "    </tr>\n",
       "    <tr>\n",
       "      <th>375802</th>\n",
       "      <td>ffffa1be31c43046ab6b</td>\n",
       "      <td>Is there an alternative to dresses on formal p...</td>\n",
       "    </tr>\n",
       "    <tr>\n",
       "      <th>375803</th>\n",
       "      <td>ffffae173b6ca6bfa563</td>\n",
       "      <td>Where I can find best friendship quotes in Tel...</td>\n",
       "    </tr>\n",
       "    <tr>\n",
       "      <th>375804</th>\n",
       "      <td>ffffb1f7f1a008620287</td>\n",
       "      <td>What are the causes of refraction of light?</td>\n",
       "    </tr>\n",
       "    <tr>\n",
       "      <th>375805</th>\n",
       "      <td>fffff85473f4699474b0</td>\n",
       "      <td>Climate change is a worrying topic. How much t...</td>\n",
       "    </tr>\n",
       "  </tbody>\n",
       "</table>\n",
       "<p>375806 rows × 2 columns</p>\n",
       "</div>"
      ],
      "text/plain": [
       "                         qid  \\\n",
       "0       0000163e3ea7c7a74cd7   \n",
       "1       00002bd4fb5d505b9161   \n",
       "2       00007756b4a147d2b0b3   \n",
       "3       000086e4b7e1c7146103   \n",
       "4       0000c4c3fbe8785a3090   \n",
       "...                      ...   \n",
       "375801  ffff7fa746bd6d6197a9   \n",
       "375802  ffffa1be31c43046ab6b   \n",
       "375803  ffffae173b6ca6bfa563   \n",
       "375804  ffffb1f7f1a008620287   \n",
       "375805  fffff85473f4699474b0   \n",
       "\n",
       "                                            question_text  \n",
       "0       Why do so many women become so rude and arroga...  \n",
       "1       When should I apply for RV college of engineer...  \n",
       "2       What is it really like to be a nurse practitio...  \n",
       "3                                  Who are entrepreneurs?  \n",
       "4        Is education really making good people nowadays?  \n",
       "...                                                   ...  \n",
       "375801  How many countries listed in gold import in in...  \n",
       "375802  Is there an alternative to dresses on formal p...  \n",
       "375803  Where I can find best friendship quotes in Tel...  \n",
       "375804        What are the causes of refraction of light?  \n",
       "375805  Climate change is a worrying topic. How much t...  \n",
       "\n",
       "[375806 rows x 2 columns]"
      ]
     },
     "execution_count": 33,
     "metadata": {},
     "output_type": "execute_result"
    }
   ],
   "source": [
    "test_df"
   ]
  },
  {
   "cell_type": "code",
   "execution_count": 34,
   "metadata": {
    "colab": {
     "base_uri": "https://localhost:8080/",
     "height": 279
    },
    "executionInfo": {
     "elapsed": 395,
     "status": "ok",
     "timestamp": 1667912455099,
     "user": {
      "displayName": "Aakash N S",
      "userId": "03254185060287524023"
     },
     "user_tz": -330
    },
    "id": "ZSzHylWuU0MF",
    "outputId": "557af698-754b-49e6-a8f7-a504aaa74737"
   },
   "outputs": [],
   "source": [
    "sub_df = pd.read_csv(sample_fname)"
   ]
  },
  {
   "cell_type": "code",
   "execution_count": 35,
   "metadata": {
    "executionInfo": {
     "elapsed": 1646,
     "status": "ok",
     "timestamp": 1667912505443,
     "user": {
      "displayName": "Aakash N S",
      "userId": "03254185060287524023"
     },
     "user_tz": -330
    },
    "id": "_lA6Vb6YVN1p"
   },
   "outputs": [
    {
     "data": {
      "text/html": [
       "<div>\n",
       "<style scoped>\n",
       "    .dataframe tbody tr th:only-of-type {\n",
       "        vertical-align: middle;\n",
       "    }\n",
       "\n",
       "    .dataframe tbody tr th {\n",
       "        vertical-align: top;\n",
       "    }\n",
       "\n",
       "    .dataframe thead th {\n",
       "        text-align: right;\n",
       "    }\n",
       "</style>\n",
       "<table border=\"1\" class=\"dataframe\">\n",
       "  <thead>\n",
       "    <tr style=\"text-align: right;\">\n",
       "      <th></th>\n",
       "      <th>qid</th>\n",
       "      <th>prediction</th>\n",
       "    </tr>\n",
       "  </thead>\n",
       "  <tbody>\n",
       "    <tr>\n",
       "      <th>0</th>\n",
       "      <td>0000163e3ea7c7a74cd7</td>\n",
       "      <td>0</td>\n",
       "    </tr>\n",
       "    <tr>\n",
       "      <th>1</th>\n",
       "      <td>00002bd4fb5d505b9161</td>\n",
       "      <td>0</td>\n",
       "    </tr>\n",
       "    <tr>\n",
       "      <th>2</th>\n",
       "      <td>00007756b4a147d2b0b3</td>\n",
       "      <td>0</td>\n",
       "    </tr>\n",
       "    <tr>\n",
       "      <th>3</th>\n",
       "      <td>000086e4b7e1c7146103</td>\n",
       "      <td>0</td>\n",
       "    </tr>\n",
       "    <tr>\n",
       "      <th>4</th>\n",
       "      <td>0000c4c3fbe8785a3090</td>\n",
       "      <td>0</td>\n",
       "    </tr>\n",
       "    <tr>\n",
       "      <th>...</th>\n",
       "      <td>...</td>\n",
       "      <td>...</td>\n",
       "    </tr>\n",
       "    <tr>\n",
       "      <th>375801</th>\n",
       "      <td>ffff7fa746bd6d6197a9</td>\n",
       "      <td>0</td>\n",
       "    </tr>\n",
       "    <tr>\n",
       "      <th>375802</th>\n",
       "      <td>ffffa1be31c43046ab6b</td>\n",
       "      <td>0</td>\n",
       "    </tr>\n",
       "    <tr>\n",
       "      <th>375803</th>\n",
       "      <td>ffffae173b6ca6bfa563</td>\n",
       "      <td>0</td>\n",
       "    </tr>\n",
       "    <tr>\n",
       "      <th>375804</th>\n",
       "      <td>ffffb1f7f1a008620287</td>\n",
       "      <td>0</td>\n",
       "    </tr>\n",
       "    <tr>\n",
       "      <th>375805</th>\n",
       "      <td>fffff85473f4699474b0</td>\n",
       "      <td>0</td>\n",
       "    </tr>\n",
       "  </tbody>\n",
       "</table>\n",
       "<p>375806 rows × 2 columns</p>\n",
       "</div>"
      ],
      "text/plain": [
       "                         qid  prediction\n",
       "0       0000163e3ea7c7a74cd7           0\n",
       "1       00002bd4fb5d505b9161           0\n",
       "2       00007756b4a147d2b0b3           0\n",
       "3       000086e4b7e1c7146103           0\n",
       "4       0000c4c3fbe8785a3090           0\n",
       "...                      ...         ...\n",
       "375801  ffff7fa746bd6d6197a9           0\n",
       "375802  ffffa1be31c43046ab6b           0\n",
       "375803  ffffae173b6ca6bfa563           0\n",
       "375804  ffffb1f7f1a008620287           0\n",
       "375805  fffff85473f4699474b0           0\n",
       "\n",
       "[375806 rows x 2 columns]"
      ]
     },
     "execution_count": 35,
     "metadata": {},
     "output_type": "execute_result"
    }
   ],
   "source": [
    "sub_df"
   ]
  },
  {
   "cell_type": "code",
   "execution_count": 36,
   "metadata": {
    "colab": {
     "base_uri": "https://localhost:8080/",
     "height": 424
    },
    "executionInfo": {
     "elapsed": 3,
     "status": "ok",
     "timestamp": 1667912507665,
     "user": {
      "displayName": "Aakash N S",
      "userId": "03254185060287524023"
     },
     "user_tz": -330
    },
    "id": "gH0ij_pmVNzV",
    "outputId": "ad30dad3-ffd4-43ac-c04d-659ac7cf006d"
   },
   "outputs": [
    {
     "data": {
      "text/plain": [
       "0    375806\n",
       "Name: prediction, dtype: int64"
      ]
     },
     "execution_count": 36,
     "metadata": {},
     "output_type": "execute_result"
    }
   ],
   "source": [
    "sub_df.prediction.value_counts()"
   ]
  },
  {
   "cell_type": "markdown",
   "metadata": {
    "id": "v7sWG0KCV0g-"
   },
   "source": [
    "### Create a Working Sample\n"
   ]
  },
  {
   "cell_type": "code",
   "execution_count": 37,
   "metadata": {
    "executionInfo": {
     "elapsed": 653,
     "status": "ok",
     "timestamp": 1667912690959,
     "user": {
      "displayName": "Aakash N S",
      "userId": "03254185060287524023"
     },
     "user_tz": -330
    },
    "id": "hu5s7hLKV7Kr"
   },
   "outputs": [],
   "source": [
    "if IS_KAGGLE:\n",
    "    SAMPLE_SIZE = len(raw_df)\n",
    "else:\n",
    "    SAMPLE_SIZE = 100_000"
   ]
  },
  {
   "cell_type": "code",
   "execution_count": 38,
   "metadata": {
    "executionInfo": {
     "elapsed": 702,
     "status": "ok",
     "timestamp": 1667912713848,
     "user": {
      "displayName": "Aakash N S",
      "userId": "03254185060287524023"
     },
     "user_tz": -330
    },
    "id": "0xzqyYo_V31J"
   },
   "outputs": [],
   "source": [
    "sample_df = raw_df.sample(SAMPLE_SIZE, random_state=42)"
   ]
  },
  {
   "cell_type": "code",
   "execution_count": 39,
   "metadata": {
    "colab": {
     "base_uri": "https://localhost:8080/",
     "height": 424
    },
    "executionInfo": {
     "elapsed": 886,
     "status": "ok",
     "timestamp": 1667912722831,
     "user": {
      "displayName": "Aakash N S",
      "userId": "03254185060287524023"
     },
     "user_tz": -330
    },
    "id": "4xFSOIfdV3yh",
    "outputId": "a1f8d588-1005-475a-bfa9-04df72110179"
   },
   "outputs": [
    {
     "data": {
      "text/html": [
       "<div>\n",
       "<style scoped>\n",
       "    .dataframe tbody tr th:only-of-type {\n",
       "        vertical-align: middle;\n",
       "    }\n",
       "\n",
       "    .dataframe tbody tr th {\n",
       "        vertical-align: top;\n",
       "    }\n",
       "\n",
       "    .dataframe thead th {\n",
       "        text-align: right;\n",
       "    }\n",
       "</style>\n",
       "<table border=\"1\" class=\"dataframe\">\n",
       "  <thead>\n",
       "    <tr style=\"text-align: right;\">\n",
       "      <th></th>\n",
       "      <th>qid</th>\n",
       "      <th>question_text</th>\n",
       "      <th>target</th>\n",
       "    </tr>\n",
       "  </thead>\n",
       "  <tbody>\n",
       "    <tr>\n",
       "      <th>443046</th>\n",
       "      <td>56d324bb1e2c29f43b12</td>\n",
       "      <td>What is the most effective classroom managemen...</td>\n",
       "      <td>0</td>\n",
       "    </tr>\n",
       "    <tr>\n",
       "      <th>947549</th>\n",
       "      <td>b9ad893dc78c577f8a63</td>\n",
       "      <td>Can I study abroad after 10th class from Bangl...</td>\n",
       "      <td>0</td>\n",
       "    </tr>\n",
       "    <tr>\n",
       "      <th>523769</th>\n",
       "      <td>6689ebaeeb65b209a412</td>\n",
       "      <td>How can I make friends as a college junior?</td>\n",
       "      <td>0</td>\n",
       "    </tr>\n",
       "    <tr>\n",
       "      <th>949821</th>\n",
       "      <td>ba1e2c4a0fef09671516</td>\n",
       "      <td>How do I download free APK Minecraft: Pocket E...</td>\n",
       "      <td>0</td>\n",
       "    </tr>\n",
       "    <tr>\n",
       "      <th>1030397</th>\n",
       "      <td>c9ea2b69bf0d74626f46</td>\n",
       "      <td>Like Kuvera, is \"Groww\" also a free online inv...</td>\n",
       "      <td>0</td>\n",
       "    </tr>\n",
       "    <tr>\n",
       "      <th>...</th>\n",
       "      <td>...</td>\n",
       "      <td>...</td>\n",
       "      <td>...</td>\n",
       "    </tr>\n",
       "    <tr>\n",
       "      <th>998930</th>\n",
       "      <td>c3c03a307a29c69971b4</td>\n",
       "      <td>How do I research list of reliable charcoal im...</td>\n",
       "      <td>0</td>\n",
       "    </tr>\n",
       "    <tr>\n",
       "      <th>66641</th>\n",
       "      <td>0d119aba95ee6684f506</td>\n",
       "      <td>What are petroleum products, and what is petro...</td>\n",
       "      <td>0</td>\n",
       "    </tr>\n",
       "    <tr>\n",
       "      <th>90024</th>\n",
       "      <td>11a46cd148a104b271cf</td>\n",
       "      <td>What are some services that will let you quick...</td>\n",
       "      <td>0</td>\n",
       "    </tr>\n",
       "    <tr>\n",
       "      <th>130113</th>\n",
       "      <td>1973e6e2111a0c93193a</td>\n",
       "      <td>What credit card processors do online marketpl...</td>\n",
       "      <td>0</td>\n",
       "    </tr>\n",
       "    <tr>\n",
       "      <th>1137</th>\n",
       "      <td>0037ed037520d82393c0</td>\n",
       "      <td>On which number system does a computer work?</td>\n",
       "      <td>0</td>\n",
       "    </tr>\n",
       "  </tbody>\n",
       "</table>\n",
       "<p>100000 rows × 3 columns</p>\n",
       "</div>"
      ],
      "text/plain": [
       "                          qid  \\\n",
       "443046   56d324bb1e2c29f43b12   \n",
       "947549   b9ad893dc78c577f8a63   \n",
       "523769   6689ebaeeb65b209a412   \n",
       "949821   ba1e2c4a0fef09671516   \n",
       "1030397  c9ea2b69bf0d74626f46   \n",
       "...                       ...   \n",
       "998930   c3c03a307a29c69971b4   \n",
       "66641    0d119aba95ee6684f506   \n",
       "90024    11a46cd148a104b271cf   \n",
       "130113   1973e6e2111a0c93193a   \n",
       "1137     0037ed037520d82393c0   \n",
       "\n",
       "                                             question_text  target  \n",
       "443046   What is the most effective classroom managemen...       0  \n",
       "947549   Can I study abroad after 10th class from Bangl...       0  \n",
       "523769         How can I make friends as a college junior?       0  \n",
       "949821   How do I download free APK Minecraft: Pocket E...       0  \n",
       "1030397  Like Kuvera, is \"Groww\" also a free online inv...       0  \n",
       "...                                                    ...     ...  \n",
       "998930   How do I research list of reliable charcoal im...       0  \n",
       "66641    What are petroleum products, and what is petro...       0  \n",
       "90024    What are some services that will let you quick...       0  \n",
       "130113   What credit card processors do online marketpl...       0  \n",
       "1137          On which number system does a computer work?       0  \n",
       "\n",
       "[100000 rows x 3 columns]"
      ]
     },
     "execution_count": 39,
     "metadata": {},
     "output_type": "execute_result"
    }
   ],
   "source": [
    "sample_df"
   ]
  },
  {
   "cell_type": "markdown",
   "metadata": {
    "id": "-gZy068pQoPg"
   },
   "source": [
    "## Text Preprocessing Techniques\n",
    "\n",
    "Outline:\n",
    "\n",
    "1. Understand the bag of words model\n",
    "2. Tokenization\n",
    "3. Stop word removal\n",
    "4. Stemming"
   ]
  },
  {
   "cell_type": "markdown",
   "metadata": {
    "id": "pJ0mh3gjXH9e"
   },
   "source": [
    "### Bag of Words Intuition\n",
    "\n",
    "1. Create a list of all the words across all the text documents\n",
    "2. You convert each document into vector counts of each word\n",
    "\n",
    "\n",
    "Limitations:\n",
    "1. There may be too many words in the dataset\n",
    "2. Some words may occur too frequently\n",
    "3. Some words may occur very rarely or only once\n",
    "4. A single word may have many forms (go, gone, going or bird vs. birds)"
   ]
  },
  {
   "cell_type": "code",
   "execution_count": 40,
   "metadata": {
    "executionInfo": {
     "elapsed": 628,
     "status": "ok",
     "timestamp": 1667913361214,
     "user": {
      "displayName": "Aakash N S",
      "userId": "03254185060287524023"
     },
     "user_tz": -330
    },
    "id": "PDb6D4pfYWPu"
   },
   "outputs": [],
   "source": [
    "q0 = sincere_df.question_text.values[1]"
   ]
  },
  {
   "cell_type": "code",
   "execution_count": 41,
   "metadata": {
    "colab": {
     "base_uri": "https://localhost:8080/",
     "height": 35
    },
    "executionInfo": {
     "elapsed": 546,
     "status": "ok",
     "timestamp": 1667913367151,
     "user": {
      "displayName": "Aakash N S",
      "userId": "03254185060287524023"
     },
     "user_tz": -330
    },
    "id": "mQjFxTKFYjJk",
    "outputId": "3012387d-9827-46bf-a3bb-d9d077ee6a9f"
   },
   "outputs": [
    {
     "data": {
      "text/plain": [
       "'Do you have an adopted dog, how would you encourage people to adopt and not shop?'"
      ]
     },
     "execution_count": 41,
     "metadata": {},
     "output_type": "execute_result"
    }
   ],
   "source": [
    "q0"
   ]
  },
  {
   "cell_type": "code",
   "execution_count": 42,
   "metadata": {
    "executionInfo": {
     "elapsed": 478,
     "status": "ok",
     "timestamp": 1667913449142,
     "user": {
      "displayName": "Aakash N S",
      "userId": "03254185060287524023"
     },
     "user_tz": -330
    },
    "id": "GIvt_M-yYlJH"
   },
   "outputs": [],
   "source": [
    "q1 = raw_df[raw_df.target == 1].question_text.values[0]"
   ]
  },
  {
   "cell_type": "code",
   "execution_count": 43,
   "metadata": {
    "colab": {
     "base_uri": "https://localhost:8080/",
     "height": 35
    },
    "executionInfo": {
     "elapsed": 3,
     "status": "ok",
     "timestamp": 1667913449769,
     "user": {
      "displayName": "Aakash N S",
      "userId": "03254185060287524023"
     },
     "user_tz": -330
    },
    "id": "86bHxTMbY182",
    "outputId": "ffafd417-1607-420d-a2ff-9169707470b2"
   },
   "outputs": [
    {
     "data": {
      "text/plain": [
       "'Has the United States become the largest dictatorship in the world?'"
      ]
     },
     "execution_count": 43,
     "metadata": {},
     "output_type": "execute_result"
    }
   ],
   "source": [
    "q1"
   ]
  },
  {
   "cell_type": "markdown",
   "metadata": {
    "id": "qj4Zg1yaYPJv"
   },
   "source": []
  },
  {
   "cell_type": "code",
   "execution_count": 48,
   "metadata": {
    "executionInfo": {
     "elapsed": 474,
     "status": "ok",
     "timestamp": 1667913549193,
     "user": {
      "displayName": "Aakash N S",
      "userId": "03254185060287524023"
     },
     "user_tz": -330
    },
    "id": "EqacxiuyZPds"
   },
   "outputs": [],
   "source": []
  },
  {
   "cell_type": "code",
   "execution_count": 44,
   "metadata": {
    "executionInfo": {
     "elapsed": 1852,
     "status": "ok",
     "timestamp": 1667913505183,
     "user": {
      "displayName": "Aakash N S",
      "userId": "03254185060287524023"
     },
     "user_tz": -330
    },
    "id": "2vQDMEq0Q_lP"
   },
   "outputs": [],
   "source": []
  },
  {
   "cell_type": "code",
   "execution_count": 49,
   "metadata": {
    "colab": {
     "base_uri": "https://localhost:8080/"
    },
    "executionInfo": {
     "elapsed": 639,
     "status": "ok",
     "timestamp": 1667913551680,
     "user": {
      "displayName": "Aakash N S",
      "userId": "03254185060287524023"
     },
     "user_tz": -330
    },
    "id": "5eaAldKAZN-4",
    "outputId": "d419ecd2-0540-4ed5-f0fc-32e68bd287dc"
   },
   "outputs": [],
   "source": []
  },
  {
   "cell_type": "code",
   "execution_count": 45,
   "metadata": {
    "colab": {
     "base_uri": "https://localhost:8080/",
     "height": 35
    },
    "executionInfo": {
     "elapsed": 1019,
     "status": "ok",
     "timestamp": 1667913515768,
     "user": {
      "displayName": "Aakash N S",
      "userId": "03254185060287524023"
     },
     "user_tz": -330
    },
    "id": "VyIaEATyQ_ip",
    "outputId": "655a30fa-ccf0-4839-aa2a-15f4437a5562"
   },
   "outputs": [],
   "source": []
  },
  {
   "cell_type": "code",
   "execution_count": 50,
   "metadata": {
    "colab": {
     "base_uri": "https://localhost:8080/"
    },
    "executionInfo": {
     "elapsed": 458,
     "status": "ok",
     "timestamp": 1667913557740,
     "user": {
      "displayName": "Aakash N S",
      "userId": "03254185060287524023"
     },
     "user_tz": -330
    },
    "id": "1yULG5nVQ_gk",
    "outputId": "83e3941f-3d29-4008-c885-b9a5eaf93912"
   },
   "outputs": [],
   "source": []
  },
  {
   "cell_type": "code",
   "execution_count": 51,
   "metadata": {
    "colab": {
     "base_uri": "https://localhost:8080/"
    },
    "executionInfo": {
     "elapsed": 451,
     "status": "ok",
     "timestamp": 1667913596244,
     "user": {
      "displayName": "Aakash N S",
      "userId": "03254185060287524023"
     },
     "user_tz": -330
    },
    "id": "gJ_lrgEpZIt8",
    "outputId": "aa250716-93b6-47ab-cbd1-d9ba9076c620"
   },
   "outputs": [],
   "source": []
  },
  {
   "cell_type": "code",
   "execution_count": 52,
   "metadata": {
    "colab": {
     "base_uri": "https://localhost:8080/",
     "height": 35
    },
    "executionInfo": {
     "elapsed": 913,
     "status": "ok",
     "timestamp": 1667913614596,
     "user": {
      "displayName": "Aakash N S",
      "userId": "03254185060287524023"
     },
     "user_tz": -330
    },
    "id": "uoP8H4KcZIr1",
    "outputId": "0800baed-d874-4f5c-ba0b-fb5aad5b0fc0"
   },
   "outputs": [],
   "source": []
  },
  {
   "cell_type": "code",
   "execution_count": 53,
   "metadata": {
    "colab": {
     "base_uri": "https://localhost:8080/"
    },
    "executionInfo": {
     "elapsed": 977,
     "status": "ok",
     "timestamp": 1667913623231,
     "user": {
      "displayName": "Aakash N S",
      "userId": "03254185060287524023"
     },
     "user_tz": -330
    },
    "id": "Bs_0YAawZIpf",
    "outputId": "e97ea6f2-c22c-4f06-fe1f-160df99340ad"
   },
   "outputs": [],
   "source": []
  },
  {
   "cell_type": "markdown",
   "metadata": {
    "executionInfo": {
     "elapsed": 1,
     "status": "ok",
     "timestamp": 1667913656571,
     "user": {
      "displayName": "Aakash N S",
      "userId": "03254185060287524023"
     },
     "user_tz": -330
    },
    "id": "7HNGqFYtZInd"
   },
   "source": [
    "### Tokenization\n",
    "\n",
    "splitting a document into words and separators"
   ]
  },
  {
   "cell_type": "code",
   "execution_count": 46,
   "metadata": {},
   "outputs": [],
   "source": [
    "!pip install nltk -q"
   ]
  },
  {
   "cell_type": "code",
   "execution_count": 47,
   "metadata": {
    "colab": {
     "base_uri": "https://localhost:8080/"
    },
    "executionInfo": {
     "elapsed": 385,
     "status": "ok",
     "timestamp": 1667913691780,
     "user": {
      "displayName": "Aakash N S",
      "userId": "03254185060287524023"
     },
     "user_tz": -330
    },
    "id": "7yZhlXV9Zxo-",
    "outputId": "408a649d-3883-4f70-e1b5-a052ada07d60"
   },
   "outputs": [],
   "source": [
    "import nltk"
   ]
  },
  {
   "cell_type": "code",
   "execution_count": 48,
   "metadata": {
    "executionInfo": {
     "elapsed": 1009,
     "status": "ok",
     "timestamp": 1667913739715,
     "user": {
      "displayName": "Aakash N S",
      "userId": "03254185060287524023"
     },
     "user_tz": -330
    },
    "id": "s1qsENBhZrD0"
   },
   "outputs": [],
   "source": [
    "from nltk.tokenize import word_tokenize"
   ]
  },
  {
   "cell_type": "code",
   "execution_count": 49,
   "metadata": {
    "colab": {
     "base_uri": "https://localhost:8080/"
    },
    "executionInfo": {
     "elapsed": 459,
     "status": "ok",
     "timestamp": 1667913791292,
     "user": {
      "displayName": "Aakash N S",
      "userId": "03254185060287524023"
     },
     "user_tz": -330
    },
    "id": "4kjpGIjraK7r",
    "outputId": "dc16bc42-9e3e-4796-8937-5d9af34d099e"
   },
   "outputs": [
    {
     "name": "stderr",
     "output_type": "stream",
     "text": [
      "[nltk_data] Downloading package punkt to /home/jovyan/nltk_data...\n",
      "[nltk_data]   Unzipping tokenizers/punkt.zip.\n"
     ]
    },
    {
     "data": {
      "text/plain": [
       "True"
      ]
     },
     "execution_count": 49,
     "metadata": {},
     "output_type": "execute_result"
    }
   ],
   "source": [
    "nltk.download('punkt')"
   ]
  },
  {
   "cell_type": "code",
   "execution_count": 50,
   "metadata": {
    "executionInfo": {
     "elapsed": 430,
     "status": "ok",
     "timestamp": 1667913795278,
     "user": {
      "displayName": "Aakash N S",
      "userId": "03254185060287524023"
     },
     "user_tz": -330
    },
    "id": "ejhkI9oVZrCD"
   },
   "outputs": [
    {
     "data": {
      "text/plain": [
       "['Do',\n",
       " 'you',\n",
       " 'have',\n",
       " 'an',\n",
       " 'adopted',\n",
       " 'dog',\n",
       " ',',\n",
       " 'how',\n",
       " 'would',\n",
       " 'you',\n",
       " 'encourage',\n",
       " 'people',\n",
       " 'to',\n",
       " 'adopt',\n",
       " 'and',\n",
       " 'not',\n",
       " 'shop',\n",
       " '?']"
      ]
     },
     "execution_count": 50,
     "metadata": {},
     "output_type": "execute_result"
    }
   ],
   "source": [
    "word_tokenize(q0)"
   ]
  },
  {
   "cell_type": "code",
   "execution_count": 51,
   "metadata": {
    "colab": {
     "base_uri": "https://localhost:8080/",
     "height": 209
    },
    "executionInfo": {
     "elapsed": 357,
     "status": "ok",
     "timestamp": 1667913817359,
     "user": {
      "displayName": "Aakash N S",
      "userId": "03254185060287524023"
     },
     "user_tz": -330
    },
    "id": "jB5avxBsZqxB",
    "outputId": "27c5b385-e8e1-4987-cc2a-19d43eb70308"
   },
   "outputs": [
    {
     "data": {
      "text/plain": [
       "['this',\n",
       " 'is',\n",
       " '(',\n",
       " 'something',\n",
       " ')',\n",
       " 'with',\n",
       " ',',\n",
       " 'a',\n",
       " 'lot',\n",
       " 'of',\n",
       " ',',\n",
       " 'punctuation',\n",
       " ';']"
      ]
     },
     "execution_count": 51,
     "metadata": {},
     "output_type": "execute_result"
    }
   ],
   "source": [
    "word_tokenize(' this is (something) with, a lot of, punctuation;')"
   ]
  },
  {
   "cell_type": "code",
   "execution_count": 52,
   "metadata": {
    "executionInfo": {
     "elapsed": 352,
     "status": "ok",
     "timestamp": 1667913917513,
     "user": {
      "displayName": "Aakash N S",
      "userId": "03254185060287524023"
     },
     "user_tz": -330
    },
    "id": "7umWfNCvZqsF"
   },
   "outputs": [
    {
     "data": {
      "text/plain": [
       "['Has',\n",
       " 'the',\n",
       " 'United',\n",
       " 'States',\n",
       " 'become',\n",
       " 'the',\n",
       " 'largest',\n",
       " 'dictatorship',\n",
       " 'in',\n",
       " 'the',\n",
       " 'world',\n",
       " '?']"
      ]
     },
     "execution_count": 52,
     "metadata": {},
     "output_type": "execute_result"
    }
   ],
   "source": [
    "word_tokenize(q1)"
   ]
  },
  {
   "cell_type": "code",
   "execution_count": 53,
   "metadata": {
    "colab": {
     "base_uri": "https://localhost:8080/"
    },
    "executionInfo": {
     "elapsed": 930,
     "status": "ok",
     "timestamp": 1667913931371,
     "user": {
      "displayName": "Aakash N S",
      "userId": "03254185060287524023"
     },
     "user_tz": -330
    },
    "id": "15NSoE_Saq6W",
    "outputId": "4abcb5d0-fae7-4c59-f01d-c8d641d798e9"
   },
   "outputs": [],
   "source": [
    "q0_tok = word_tokenize(q0)\n",
    "q1_tok = word_tokenize(q1)"
   ]
  },
  {
   "cell_type": "markdown",
   "metadata": {
    "executionInfo": {
     "elapsed": 667,
     "status": "ok",
     "timestamp": 1667913944997,
     "user": {
      "displayName": "Aakash N S",
      "userId": "03254185060287524023"
     },
     "user_tz": -330
    },
    "id": "b59BPAClaq4B"
   },
   "source": [
    "### Stop Word Removal\n",
    "\n",
    "Removing commonly occuring words"
   ]
  },
  {
   "cell_type": "code",
   "execution_count": 54,
   "metadata": {
    "colab": {
     "base_uri": "https://localhost:8080/"
    },
    "executionInfo": {
     "elapsed": 502,
     "status": "ok",
     "timestamp": 1667913950071,
     "user": {
      "displayName": "Aakash N S",
      "userId": "03254185060287524023"
     },
     "user_tz": -330
    },
    "id": "UJpOKfd-Zqp_",
    "outputId": "d9cd0cfc-26a5-45a2-eb18-3517d13bedda"
   },
   "outputs": [],
   "source": [
    "from nltk.corpus import stopwords"
   ]
  },
  {
   "cell_type": "code",
   "execution_count": 55,
   "metadata": {
    "executionInfo": {
     "elapsed": 476,
     "status": "ok",
     "timestamp": 1667913994939,
     "user": {
      "displayName": "Aakash N S",
      "userId": "03254185060287524023"
     },
     "user_tz": -330
    },
    "id": "IKR9dyGVa6OR"
   },
   "outputs": [
    {
     "name": "stderr",
     "output_type": "stream",
     "text": [
      "[nltk_data] Downloading package stopwords to /home/jovyan/nltk_data...\n",
      "[nltk_data]   Unzipping corpora/stopwords.zip.\n"
     ]
    },
    {
     "data": {
      "text/plain": [
       "True"
      ]
     },
     "execution_count": 55,
     "metadata": {},
     "output_type": "execute_result"
    }
   ],
   "source": [
    "nltk.download('stopwords')"
   ]
  },
  {
   "cell_type": "code",
   "execution_count": 56,
   "metadata": {
    "colab": {
     "base_uri": "https://localhost:8080/"
    },
    "executionInfo": {
     "elapsed": 699,
     "status": "ok",
     "timestamp": 1667913999121,
     "user": {
      "displayName": "Aakash N S",
      "userId": "03254185060287524023"
     },
     "user_tz": -330
    },
    "id": "_RvMiZAka6Lv",
    "outputId": "4f446d13-cf60-4da4-e6d6-50b9f46a1ad0"
   },
   "outputs": [],
   "source": [
    "english_stopwords = stopwords.words('english')"
   ]
  },
  {
   "cell_type": "code",
   "execution_count": 58,
   "metadata": {
    "colab": {
     "base_uri": "https://localhost:8080/"
    },
    "executionInfo": {
     "elapsed": 485,
     "status": "ok",
     "timestamp": 1667914001968,
     "user": {
      "displayName": "Aakash N S",
      "userId": "03254185060287524023"
     },
     "user_tz": -330
    },
    "id": "GqpqLKw9a-A8",
    "outputId": "9280f918-57dc-4673-bb3b-274107f8b62b"
   },
   "outputs": [
    {
     "data": {
      "text/plain": [
       "\"i, me, my, myself, we, our, ours, ourselves, you, you're, you've, you'll, you'd, your, yours, yourself, yourselves, he, him, his, himself, she, she's, her, hers, herself, it, it's, its, itself, they, them, their, theirs, themselves, what, which, who, whom, this, that, that'll, these, those, am, is, are, was, were, be, been, being, have, has, had, having, do, does, did, doing, a, an, the, and, but, if, or, because, as, until, while, of, at, by, for, with, about, against, between, into, through, during, before, after, above, below, to, from, up, down, in, out, on, off, over, under, again, further, then, once, here, there, when, where, why, how, all, any, both, each, few, more, most, other, some, such, no, nor, not, only, own, same, so, than, too, very, s, t, can, will, just, don, don't, should, should've, now, d, ll, m, o, re, ve, y, ain, aren, aren't, couldn, couldn't, didn, didn't, doesn, doesn't, hadn, hadn't, hasn, hasn't, haven, haven't, isn, isn't, ma, mightn, mightn't, mustn, mustn't, needn, needn't, shan, shan't, shouldn, shouldn't, wasn, wasn't, weren, weren't, won, won't, wouldn, wouldn't\""
      ]
     },
     "execution_count": 58,
     "metadata": {},
     "output_type": "execute_result"
    }
   ],
   "source": [
    "\", \".join(english_stopwords)"
   ]
  },
  {
   "cell_type": "code",
   "execution_count": 59,
   "metadata": {},
   "outputs": [],
   "source": [
    "def remove_stopwords(tokens):\n",
    "    return [word for word in tokens if word.lower() not in english_stopwords]"
   ]
  },
  {
   "cell_type": "code",
   "execution_count": 60,
   "metadata": {},
   "outputs": [],
   "source": [
    "q0_stp = remove_stopwords(q0_tok)"
   ]
  },
  {
   "cell_type": "code",
   "execution_count": 62,
   "metadata": {},
   "outputs": [
    {
     "data": {
      "text/plain": [
       "['adopted', 'dog', ',', 'would', 'encourage', 'people', 'adopt', 'shop', '?']"
      ]
     },
     "execution_count": 62,
     "metadata": {},
     "output_type": "execute_result"
    }
   ],
   "source": [
    "q0_stp"
   ]
  },
  {
   "cell_type": "code",
   "execution_count": 63,
   "metadata": {},
   "outputs": [],
   "source": [
    "q1_stp = remove_stopwords(q1_tok)"
   ]
  },
  {
   "cell_type": "code",
   "execution_count": 64,
   "metadata": {},
   "outputs": [
    {
     "data": {
      "text/plain": [
       "['United', 'States', 'become', 'largest', 'dictatorship', 'world', '?']"
      ]
     },
     "execution_count": 64,
     "metadata": {},
     "output_type": "execute_result"
    }
   ],
   "source": [
    "q1_stp "
   ]
  },
  {
   "cell_type": "markdown",
   "metadata": {
    "id": "FeVx68x5bHEF"
   },
   "source": [
    "### Stemming\n",
    "\n",
    "\"go\", \"gone\", \"going\" -> \"go\"\n",
    "\"birds\", \"bird\" -> \"bird\""
   ]
  },
  {
   "cell_type": "code",
   "execution_count": 65,
   "metadata": {
    "executionInfo": {
     "elapsed": 1054,
     "status": "ok",
     "timestamp": 1667914103321,
     "user": {
      "displayName": "Aakash N S",
      "userId": "03254185060287524023"
     },
     "user_tz": -330
    },
    "id": "9jFOfSqtbG6y"
   },
   "outputs": [],
   "source": [
    "from nltk.stem.snowball import SnowballStemmer"
   ]
  },
  {
   "cell_type": "code",
   "execution_count": 66,
   "metadata": {
    "executionInfo": {
     "elapsed": 544,
     "status": "ok",
     "timestamp": 1667914116697,
     "user": {
      "displayName": "Aakash N S",
      "userId": "03254185060287524023"
     },
     "user_tz": -330
    },
    "id": "SC0PMIy3bG4r"
   },
   "outputs": [],
   "source": [
    "stemmer = SnowballStemmer(language='english')"
   ]
  },
  {
   "cell_type": "code",
   "execution_count": 67,
   "metadata": {
    "colab": {
     "base_uri": "https://localhost:8080/",
     "height": 35
    },
    "executionInfo": {
     "elapsed": 792,
     "status": "ok",
     "timestamp": 1667914135778,
     "user": {
      "displayName": "Aakash N S",
      "userId": "03254185060287524023"
     },
     "user_tz": -330
    },
    "id": "apl0nhFqbG2F",
    "outputId": "fc70d0f5-0f7a-49b4-ace3-ea1113cb8c66"
   },
   "outputs": [
    {
     "data": {
      "text/plain": [
       "'go'"
      ]
     },
     "execution_count": 67,
     "metadata": {},
     "output_type": "execute_result"
    }
   ],
   "source": [
    "stemmer.stem('going')"
   ]
  },
  {
   "cell_type": "code",
   "execution_count": 68,
   "metadata": {
    "colab": {
     "base_uri": "https://localhost:8080/",
     "height": 35
    },
    "executionInfo": {
     "elapsed": 386,
     "status": "ok",
     "timestamp": 1667914142907,
     "user": {
      "displayName": "Aakash N S",
      "userId": "03254185060287524023"
     },
     "user_tz": -330
    },
    "id": "wtIoHT1ybGz2",
    "outputId": "3609cf3d-2c9f-4638-db1f-07ce31e63f20"
   },
   "outputs": [
    {
     "data": {
      "text/plain": [
       "'suppos'"
      ]
     },
     "execution_count": 68,
     "metadata": {},
     "output_type": "execute_result"
    }
   ],
   "source": [
    "stemmer.stem('supposedly')"
   ]
  },
  {
   "cell_type": "code",
   "execution_count": 69,
   "metadata": {
    "executionInfo": {
     "elapsed": 364,
     "status": "ok",
     "timestamp": 1667914180406,
     "user": {
      "displayName": "Aakash N S",
      "userId": "03254185060287524023"
     },
     "user_tz": -330
    },
    "id": "hGdECu-rbmbZ"
   },
   "outputs": [],
   "source": [
    "q0_stm = [stemmer.stem(word) for word in q0_stp]"
   ]
  },
  {
   "cell_type": "code",
   "execution_count": 70,
   "metadata": {
    "colab": {
     "base_uri": "https://localhost:8080/"
    },
    "executionInfo": {
     "elapsed": 817,
     "status": "ok",
     "timestamp": 1667914186316,
     "user": {
      "displayName": "Aakash N S",
      "userId": "03254185060287524023"
     },
     "user_tz": -330
    },
    "id": "BY0fs95pbqtH",
    "outputId": "5e0d4927-385f-40c7-ad88-82ec30049890"
   },
   "outputs": [
    {
     "data": {
      "text/plain": [
       "['adopt', 'dog', ',', 'would', 'encourag', 'peopl', 'adopt', 'shop', '?']"
      ]
     },
     "execution_count": 70,
     "metadata": {},
     "output_type": "execute_result"
    }
   ],
   "source": [
    "q0_stm"
   ]
  },
  {
   "cell_type": "code",
   "execution_count": 71,
   "metadata": {
    "colab": {
     "base_uri": "https://localhost:8080/"
    },
    "executionInfo": {
     "elapsed": 573,
     "status": "ok",
     "timestamp": 1667914193742,
     "user": {
      "displayName": "Aakash N S",
      "userId": "03254185060287524023"
     },
     "user_tz": -330
    },
    "id": "ARuFpGkHbqn2",
    "outputId": "3e4e85e5-bb93-4feb-97f2-5141ebbcd1db"
   },
   "outputs": [],
   "source": [
    "q1_stm = [stemmer.stem(word) for word in q1_stp]"
   ]
  },
  {
   "cell_type": "code",
   "execution_count": 72,
   "metadata": {
    "executionInfo": {
     "elapsed": 432,
     "status": "ok",
     "timestamp": 1667914233752,
     "user": {
      "displayName": "Aakash N S",
      "userId": "03254185060287524023"
     },
     "user_tz": -330
    },
    "id": "kiFiGdCpbrot"
   },
   "outputs": [
    {
     "data": {
      "text/plain": [
       "['unit', 'state', 'becom', 'largest', 'dictatorship', 'world', '?']"
      ]
     },
     "execution_count": 72,
     "metadata": {},
     "output_type": "execute_result"
    }
   ],
   "source": [
    "q1_stm"
   ]
  },
  {
   "cell_type": "markdown",
   "metadata": {
    "id": "VWWkiTcWcAR7"
   },
   "source": [
    "### Lemmatization\n",
    "\n",
    "\"love\" -> \"love\"\n",
    "\"loving\" -> \"love\"\n",
    "\"lovable\" -> \"love\"\n"
   ]
  },
  {
   "cell_type": "markdown",
   "metadata": {
    "id": "CuTR9sOWQoMq"
   },
   "source": [
    "## Implement Bag of Words \n",
    "\n",
    "\n",
    "Outline:\n",
    "\n",
    "1. Create a vocabulary using Count Vectorizer\n",
    "2. Transform text to vectors using Count Vectorizer\n",
    "3. Configure text preprocessing in Count Vectorizer"
   ]
  },
  {
   "cell_type": "markdown",
   "metadata": {
    "id": "0HWShc6jdPFy"
   },
   "source": [
    "### Create a Vocabulary"
   ]
  },
  {
   "cell_type": "code",
   "execution_count": 73,
   "metadata": {
    "colab": {
     "base_uri": "https://localhost:8080/",
     "height": 424
    },
    "executionInfo": {
     "elapsed": 419,
     "status": "ok",
     "timestamp": 1667914532328,
     "user": {
      "displayName": "Aakash N S",
      "userId": "03254185060287524023"
     },
     "user_tz": -330
    },
    "id": "uGScEAd9c_dQ",
    "outputId": "e923813b-b8fd-438b-a6f0-743c280a204d"
   },
   "outputs": [
    {
     "data": {
      "text/html": [
       "<div>\n",
       "<style scoped>\n",
       "    .dataframe tbody tr th:only-of-type {\n",
       "        vertical-align: middle;\n",
       "    }\n",
       "\n",
       "    .dataframe tbody tr th {\n",
       "        vertical-align: top;\n",
       "    }\n",
       "\n",
       "    .dataframe thead th {\n",
       "        text-align: right;\n",
       "    }\n",
       "</style>\n",
       "<table border=\"1\" class=\"dataframe\">\n",
       "  <thead>\n",
       "    <tr style=\"text-align: right;\">\n",
       "      <th></th>\n",
       "      <th>qid</th>\n",
       "      <th>question_text</th>\n",
       "      <th>target</th>\n",
       "    </tr>\n",
       "  </thead>\n",
       "  <tbody>\n",
       "    <tr>\n",
       "      <th>443046</th>\n",
       "      <td>56d324bb1e2c29f43b12</td>\n",
       "      <td>What is the most effective classroom managemen...</td>\n",
       "      <td>0</td>\n",
       "    </tr>\n",
       "    <tr>\n",
       "      <th>947549</th>\n",
       "      <td>b9ad893dc78c577f8a63</td>\n",
       "      <td>Can I study abroad after 10th class from Bangl...</td>\n",
       "      <td>0</td>\n",
       "    </tr>\n",
       "    <tr>\n",
       "      <th>523769</th>\n",
       "      <td>6689ebaeeb65b209a412</td>\n",
       "      <td>How can I make friends as a college junior?</td>\n",
       "      <td>0</td>\n",
       "    </tr>\n",
       "    <tr>\n",
       "      <th>949821</th>\n",
       "      <td>ba1e2c4a0fef09671516</td>\n",
       "      <td>How do I download free APK Minecraft: Pocket E...</td>\n",
       "      <td>0</td>\n",
       "    </tr>\n",
       "    <tr>\n",
       "      <th>1030397</th>\n",
       "      <td>c9ea2b69bf0d74626f46</td>\n",
       "      <td>Like Kuvera, is \"Groww\" also a free online inv...</td>\n",
       "      <td>0</td>\n",
       "    </tr>\n",
       "    <tr>\n",
       "      <th>...</th>\n",
       "      <td>...</td>\n",
       "      <td>...</td>\n",
       "      <td>...</td>\n",
       "    </tr>\n",
       "    <tr>\n",
       "      <th>998930</th>\n",
       "      <td>c3c03a307a29c69971b4</td>\n",
       "      <td>How do I research list of reliable charcoal im...</td>\n",
       "      <td>0</td>\n",
       "    </tr>\n",
       "    <tr>\n",
       "      <th>66641</th>\n",
       "      <td>0d119aba95ee6684f506</td>\n",
       "      <td>What are petroleum products, and what is petro...</td>\n",
       "      <td>0</td>\n",
       "    </tr>\n",
       "    <tr>\n",
       "      <th>90024</th>\n",
       "      <td>11a46cd148a104b271cf</td>\n",
       "      <td>What are some services that will let you quick...</td>\n",
       "      <td>0</td>\n",
       "    </tr>\n",
       "    <tr>\n",
       "      <th>130113</th>\n",
       "      <td>1973e6e2111a0c93193a</td>\n",
       "      <td>What credit card processors do online marketpl...</td>\n",
       "      <td>0</td>\n",
       "    </tr>\n",
       "    <tr>\n",
       "      <th>1137</th>\n",
       "      <td>0037ed037520d82393c0</td>\n",
       "      <td>On which number system does a computer work?</td>\n",
       "      <td>0</td>\n",
       "    </tr>\n",
       "  </tbody>\n",
       "</table>\n",
       "<p>100000 rows × 3 columns</p>\n",
       "</div>"
      ],
      "text/plain": [
       "                          qid  \\\n",
       "443046   56d324bb1e2c29f43b12   \n",
       "947549   b9ad893dc78c577f8a63   \n",
       "523769   6689ebaeeb65b209a412   \n",
       "949821   ba1e2c4a0fef09671516   \n",
       "1030397  c9ea2b69bf0d74626f46   \n",
       "...                       ...   \n",
       "998930   c3c03a307a29c69971b4   \n",
       "66641    0d119aba95ee6684f506   \n",
       "90024    11a46cd148a104b271cf   \n",
       "130113   1973e6e2111a0c93193a   \n",
       "1137     0037ed037520d82393c0   \n",
       "\n",
       "                                             question_text  target  \n",
       "443046   What is the most effective classroom managemen...       0  \n",
       "947549   Can I study abroad after 10th class from Bangl...       0  \n",
       "523769         How can I make friends as a college junior?       0  \n",
       "949821   How do I download free APK Minecraft: Pocket E...       0  \n",
       "1030397  Like Kuvera, is \"Groww\" also a free online inv...       0  \n",
       "...                                                    ...     ...  \n",
       "998930   How do I research list of reliable charcoal im...       0  \n",
       "66641    What are petroleum products, and what is petro...       0  \n",
       "90024    What are some services that will let you quick...       0  \n",
       "130113   What credit card processors do online marketpl...       0  \n",
       "1137          On which number system does a computer work?       0  \n",
       "\n",
       "[100000 rows x 3 columns]"
      ]
     },
     "execution_count": 73,
     "metadata": {},
     "output_type": "execute_result"
    }
   ],
   "source": [
    "sample_df"
   ]
  },
  {
   "cell_type": "code",
   "execution_count": 74,
   "metadata": {
    "executionInfo": {
     "elapsed": 707,
     "status": "ok",
     "timestamp": 1667914559612,
     "user": {
      "displayName": "Aakash N S",
      "userId": "03254185060287524023"
     },
     "user_tz": -330
    },
    "id": "IKj0BM2NRATm"
   },
   "outputs": [],
   "source": [
    "small_df = sample_df.head()"
   ]
  },
  {
   "cell_type": "code",
   "execution_count": 75,
   "metadata": {
    "colab": {
     "base_uri": "https://localhost:8080/",
     "height": 206
    },
    "executionInfo": {
     "elapsed": 1222,
     "status": "ok",
     "timestamp": 1667914576774,
     "user": {
      "displayName": "Aakash N S",
      "userId": "03254185060287524023"
     },
     "user_tz": -330
    },
    "id": "awqkIOZEdKFu",
    "outputId": "9c110405-71e1-4c72-c02c-dfbc1d5be43c"
   },
   "outputs": [
    {
     "data": {
      "text/html": [
       "<div>\n",
       "<style scoped>\n",
       "    .dataframe tbody tr th:only-of-type {\n",
       "        vertical-align: middle;\n",
       "    }\n",
       "\n",
       "    .dataframe tbody tr th {\n",
       "        vertical-align: top;\n",
       "    }\n",
       "\n",
       "    .dataframe thead th {\n",
       "        text-align: right;\n",
       "    }\n",
       "</style>\n",
       "<table border=\"1\" class=\"dataframe\">\n",
       "  <thead>\n",
       "    <tr style=\"text-align: right;\">\n",
       "      <th></th>\n",
       "      <th>qid</th>\n",
       "      <th>question_text</th>\n",
       "      <th>target</th>\n",
       "    </tr>\n",
       "  </thead>\n",
       "  <tbody>\n",
       "    <tr>\n",
       "      <th>443046</th>\n",
       "      <td>56d324bb1e2c29f43b12</td>\n",
       "      <td>What is the most effective classroom managemen...</td>\n",
       "      <td>0</td>\n",
       "    </tr>\n",
       "    <tr>\n",
       "      <th>947549</th>\n",
       "      <td>b9ad893dc78c577f8a63</td>\n",
       "      <td>Can I study abroad after 10th class from Bangl...</td>\n",
       "      <td>0</td>\n",
       "    </tr>\n",
       "    <tr>\n",
       "      <th>523769</th>\n",
       "      <td>6689ebaeeb65b209a412</td>\n",
       "      <td>How can I make friends as a college junior?</td>\n",
       "      <td>0</td>\n",
       "    </tr>\n",
       "    <tr>\n",
       "      <th>949821</th>\n",
       "      <td>ba1e2c4a0fef09671516</td>\n",
       "      <td>How do I download free APK Minecraft: Pocket E...</td>\n",
       "      <td>0</td>\n",
       "    </tr>\n",
       "    <tr>\n",
       "      <th>1030397</th>\n",
       "      <td>c9ea2b69bf0d74626f46</td>\n",
       "      <td>Like Kuvera, is \"Groww\" also a free online inv...</td>\n",
       "      <td>0</td>\n",
       "    </tr>\n",
       "  </tbody>\n",
       "</table>\n",
       "</div>"
      ],
      "text/plain": [
       "                          qid  \\\n",
       "443046   56d324bb1e2c29f43b12   \n",
       "947549   b9ad893dc78c577f8a63   \n",
       "523769   6689ebaeeb65b209a412   \n",
       "949821   ba1e2c4a0fef09671516   \n",
       "1030397  c9ea2b69bf0d74626f46   \n",
       "\n",
       "                                             question_text  target  \n",
       "443046   What is the most effective classroom managemen...       0  \n",
       "947549   Can I study abroad after 10th class from Bangl...       0  \n",
       "523769         How can I make friends as a college junior?       0  \n",
       "949821   How do I download free APK Minecraft: Pocket E...       0  \n",
       "1030397  Like Kuvera, is \"Groww\" also a free online inv...       0  "
      ]
     },
     "execution_count": 75,
     "metadata": {},
     "output_type": "execute_result"
    }
   ],
   "source": [
    "small_df"
   ]
  },
  {
   "cell_type": "code",
   "execution_count": 76,
   "metadata": {
    "colab": {
     "base_uri": "https://localhost:8080/"
    },
    "executionInfo": {
     "elapsed": 430,
     "status": "ok",
     "timestamp": 1667914566540,
     "user": {
      "displayName": "Aakash N S",
      "userId": "03254185060287524023"
     },
     "user_tz": -330
    },
    "id": "XZOIXmC3RARh",
    "outputId": "330c3a06-1368-40de-ae9c-40f0061e61d6"
   },
   "outputs": [
    {
     "data": {
      "text/plain": [
       "array(['What is the most effective classroom management skill/technique to create a good learning environment?',\n",
       "       'Can I study abroad after 10th class from Bangladesh?',\n",
       "       'How can I make friends as a college junior?',\n",
       "       'How do I download free APK Minecraft: Pocket Edition for iOS (iPhone)?',\n",
       "       'Like Kuvera, is \"Groww\" also a free online investment platform where I can invest in direct mutual funds?'],\n",
       "      dtype=object)"
      ]
     },
     "execution_count": 76,
     "metadata": {},
     "output_type": "execute_result"
    }
   ],
   "source": [
    "small_df.question_text.values"
   ]
  },
  {
   "cell_type": "code",
   "execution_count": 77,
   "metadata": {
    "executionInfo": {
     "elapsed": 362,
     "status": "ok",
     "timestamp": 1667914669258,
     "user": {
      "displayName": "Aakash N S",
      "userId": "03254185060287524023"
     },
     "user_tz": -330
    },
    "id": "Yr3XgzBWdNNx"
   },
   "outputs": [],
   "source": [
    "from sklearn.feature_extraction.text import CountVectorizer"
   ]
  },
  {
   "cell_type": "code",
   "execution_count": 78,
   "metadata": {
    "executionInfo": {
     "elapsed": 351,
     "status": "ok",
     "timestamp": 1667914677547,
     "user": {
      "displayName": "Aakash N S",
      "userId": "03254185060287524023"
     },
     "user_tz": -330
    },
    "id": "-sE8WL3-dNLf"
   },
   "outputs": [],
   "source": [
    "small_vect = CountVectorizer()"
   ]
  },
  {
   "cell_type": "code",
   "execution_count": 79,
   "metadata": {
    "colab": {
     "base_uri": "https://localhost:8080/"
    },
    "executionInfo": {
     "elapsed": 409,
     "status": "ok",
     "timestamp": 1667914713345,
     "user": {
      "displayName": "Aakash N S",
      "userId": "03254185060287524023"
     },
     "user_tz": -330
    },
    "id": "ba9oOkD6RAPP",
    "outputId": "eccc7e9b-266b-4aea-90fa-654fa176b504"
   },
   "outputs": [
    {
     "data": {
      "text/plain": [
       "CountVectorizer()"
      ]
     },
     "execution_count": 79,
     "metadata": {},
     "output_type": "execute_result"
    }
   ],
   "source": [
    "small_vect.fit(small_df.question_text)"
   ]
  },
  {
   "cell_type": "code",
   "execution_count": 80,
   "metadata": {
    "colab": {
     "base_uri": "https://localhost:8080/"
    },
    "executionInfo": {
     "elapsed": 651,
     "status": "ok",
     "timestamp": 1667914761316,
     "user": {
      "displayName": "Aakash N S",
      "userId": "03254185060287524023"
     },
     "user_tz": -330
    },
    "id": "-QPGkxLZdkPy",
    "outputId": "7de3797e-3a41-4bb1-c581-ad7bd7610eb4"
   },
   "outputs": [
    {
     "data": {
      "text/plain": [
       "array(['10th', 'abroad', 'after', 'also', 'apk', 'as', 'bangladesh',\n",
       "       'can', 'class', 'classroom', 'college', 'create', 'direct', 'do',\n",
       "       'download', 'edition', 'effective', 'environment', 'for', 'free',\n",
       "       'friends', 'from', 'funds', 'good', 'groww', 'how', 'in', 'invest',\n",
       "       'investment', 'ios', 'iphone', 'is', 'junior', 'kuvera',\n",
       "       'learning', 'like', 'make', 'management', 'minecraft', 'most',\n",
       "       'mutual', 'online', 'platform', 'pocket', 'skill', 'study',\n",
       "       'technique', 'the', 'to', 'what', 'where'], dtype=object)"
      ]
     },
     "execution_count": 80,
     "metadata": {},
     "output_type": "execute_result"
    }
   ],
   "source": [
    "small_vect.get_feature_names_out()"
   ]
  },
  {
   "cell_type": "markdown",
   "metadata": {
    "id": "WXsUWz_hd9KE"
   },
   "source": [
    "### Transform documents into Vectors"
   ]
  },
  {
   "cell_type": "code",
   "execution_count": 81,
   "metadata": {
    "executionInfo": {
     "elapsed": 533,
     "status": "ok",
     "timestamp": 1667914847949,
     "user": {
      "displayName": "Aakash N S",
      "userId": "03254185060287524023"
     },
     "user_tz": -330
    },
    "id": "nZVZ3jIddkKT"
   },
   "outputs": [],
   "source": [
    "vectors = small_vect.transform(small_df.question_text)"
   ]
  },
  {
   "cell_type": "code",
   "execution_count": 82,
   "metadata": {
    "colab": {
     "base_uri": "https://localhost:8080/"
    },
    "executionInfo": {
     "elapsed": 638,
     "status": "ok",
     "timestamp": 1667914853853,
     "user": {
      "displayName": "Aakash N S",
      "userId": "03254185060287524023"
     },
     "user_tz": -330
    },
    "id": "MIGbsQEQdkHt",
    "outputId": "1ad2eff7-d795-4c0e-ab60-f88ce7b4ed8c"
   },
   "outputs": [
    {
     "data": {
      "text/plain": [
       "<5x51 sparse matrix of type '<class 'numpy.int64'>'\n",
       "\twith 56 stored elements in Compressed Sparse Row format>"
      ]
     },
     "execution_count": 82,
     "metadata": {},
     "output_type": "execute_result"
    }
   ],
   "source": [
    "vectors"
   ]
  },
  {
   "cell_type": "code",
   "execution_count": 83,
   "metadata": {
    "colab": {
     "base_uri": "https://localhost:8080/"
    },
    "executionInfo": {
     "elapsed": 630,
     "status": "ok",
     "timestamp": 1667914900662,
     "user": {
      "displayName": "Aakash N S",
      "userId": "03254185060287524023"
     },
     "user_tz": -330
    },
    "id": "wriwC-1DeZPA",
    "outputId": "9b7a3cba-e4e6-4023-851b-7cb6b6029f40"
   },
   "outputs": [
    {
     "data": {
      "text/plain": [
       "(5, 51)"
      ]
     },
     "execution_count": 83,
     "metadata": {},
     "output_type": "execute_result"
    }
   ],
   "source": [
    "vectors.shape"
   ]
  },
  {
   "cell_type": "code",
   "execution_count": 84,
   "metadata": {
    "colab": {
     "base_uri": "https://localhost:8080/",
     "height": 52
    },
    "executionInfo": {
     "elapsed": 495,
     "status": "ok",
     "timestamp": 1667914953574,
     "user": {
      "displayName": "Aakash N S",
      "userId": "03254185060287524023"
     },
     "user_tz": -330
    },
    "id": "bXtFEWjtekqt",
    "outputId": "a4c659e8-4c86-478e-c827-ddbacde28bd9"
   },
   "outputs": [
    {
     "data": {
      "text/plain": [
       "array([[0, 0, 0, 0, 0, 0, 0, 0, 0, 1, 0, 1, 0, 0, 0, 0, 1, 1, 0, 0, 0, 0,\n",
       "        0, 1, 0, 0, 0, 0, 0, 0, 0, 1, 0, 0, 1, 0, 0, 1, 0, 1, 0, 0, 0, 0,\n",
       "        1, 0, 1, 1, 1, 1, 0],\n",
       "       [1, 1, 1, 0, 0, 0, 1, 1, 1, 0, 0, 0, 0, 0, 0, 0, 0, 0, 0, 0, 0, 1,\n",
       "        0, 0, 0, 0, 0, 0, 0, 0, 0, 0, 0, 0, 0, 0, 0, 0, 0, 0, 0, 0, 0, 0,\n",
       "        0, 1, 0, 0, 0, 0, 0],\n",
       "       [0, 0, 0, 0, 0, 1, 0, 1, 0, 0, 1, 0, 0, 0, 0, 0, 0, 0, 0, 0, 1, 0,\n",
       "        0, 0, 0, 1, 0, 0, 0, 0, 0, 0, 1, 0, 0, 0, 1, 0, 0, 0, 0, 0, 0, 0,\n",
       "        0, 0, 0, 0, 0, 0, 0],\n",
       "       [0, 0, 0, 0, 1, 0, 0, 0, 0, 0, 0, 0, 0, 1, 1, 1, 0, 0, 1, 1, 0, 0,\n",
       "        0, 0, 0, 1, 0, 0, 0, 1, 1, 0, 0, 0, 0, 0, 0, 0, 1, 0, 0, 0, 0, 1,\n",
       "        0, 0, 0, 0, 0, 0, 0],\n",
       "       [0, 0, 0, 1, 0, 0, 0, 1, 0, 0, 0, 0, 1, 0, 0, 0, 0, 0, 0, 1, 0, 0,\n",
       "        1, 0, 1, 0, 1, 1, 1, 0, 0, 1, 0, 1, 0, 1, 0, 0, 0, 0, 1, 1, 1, 0,\n",
       "        0, 0, 0, 0, 0, 0, 1]])"
      ]
     },
     "execution_count": 84,
     "metadata": {},
     "output_type": "execute_result"
    }
   ],
   "source": [
    "vectors.toarray()"
   ]
  },
  {
   "cell_type": "markdown",
   "metadata": {
    "id": "vZPCOwobe485"
   },
   "source": [
    "### Configure Count Vectorizer Parameters"
   ]
  },
  {
   "cell_type": "code",
   "execution_count": 85,
   "metadata": {
    "executionInfo": {
     "elapsed": 391,
     "status": "ok",
     "timestamp": 1667915246398,
     "user": {
      "displayName": "Aakash N S",
      "userId": "03254185060287524023"
     },
     "user_tz": -330
    },
    "id": "xUjZDsdqfq4u"
   },
   "outputs": [],
   "source": [
    "stemmer = SnowballStemmer(language='english')"
   ]
  },
  {
   "cell_type": "code",
   "execution_count": 86,
   "metadata": {
    "executionInfo": {
     "elapsed": 368,
     "status": "ok",
     "timestamp": 1667915256240,
     "user": {
      "displayName": "Aakash N S",
      "userId": "03254185060287524023"
     },
     "user_tz": -330
    },
    "id": "9hZzn1LBfPoM"
   },
   "outputs": [],
   "source": [
    "def tokenize(text):\n",
    "    return [stemmer.stem(word) for word in word_tokenize(text)]"
   ]
  },
  {
   "cell_type": "code",
   "execution_count": 87,
   "metadata": {
    "colab": {
     "base_uri": "https://localhost:8080/"
    },
    "executionInfo": {
     "elapsed": 358,
     "status": "ok",
     "timestamp": 1667915263406,
     "user": {
      "displayName": "Aakash N S",
      "userId": "03254185060287524023"
     },
     "user_tz": -330
    },
    "id": "OAausoIrfa2I",
    "outputId": "96c1e3a3-1f5c-40d0-e05b-1c32046aff8c"
   },
   "outputs": [
    {
     "data": {
      "text/plain": [
       "['what', 'is', 'the', 'realli', '(', 'deal', ')', 'here', '?']"
      ]
     },
     "execution_count": 87,
     "metadata": {},
     "output_type": "execute_result"
    }
   ],
   "source": [
    "tokenize('What is the really (dealing) here?')"
   ]
  },
  {
   "cell_type": "code",
   "execution_count": 88,
   "metadata": {
    "executionInfo": {
     "elapsed": 559,
     "status": "ok",
     "timestamp": 1667915360958,
     "user": {
      "displayName": "Aakash N S",
      "userId": "03254185060287524023"
     },
     "user_tz": -330
    },
    "id": "pJGAErs7e9Fh"
   },
   "outputs": [],
   "source": [
    "vectorizer = CountVectorizer(lowercase=True, \n",
    "                             tokenizer=tokenize,\n",
    "                             stop_words=english_stopwords,\n",
    "                             max_features=1000)"
   ]
  },
  {
   "cell_type": "code",
   "execution_count": 89,
   "metadata": {
    "colab": {
     "base_uri": "https://localhost:8080/"
    },
    "executionInfo": {
     "elapsed": 32457,
     "status": "ok",
     "timestamp": 1667915423839,
     "user": {
      "displayName": "Aakash N S",
      "userId": "03254185060287524023"
     },
     "user_tz": -330
    },
    "id": "pI8nbkpAe9Dg",
    "outputId": "e6151146-4e99-4bb5-bf70-c7336b5ed226"
   },
   "outputs": [
    {
     "name": "stderr",
     "output_type": "stream",
     "text": [
      "/opt/conda/lib/python3.9/site-packages/sklearn/feature_extraction/text.py:516: UserWarning: The parameter 'token_pattern' will not be used since 'tokenizer' is not None'\n",
      "  warnings.warn(\n",
      "/opt/conda/lib/python3.9/site-packages/sklearn/feature_extraction/text.py:396: UserWarning: Your stop_words may be inconsistent with your preprocessing. Tokenizing the stop words generated tokens [\"'d\", \"'s\", 'abov', 'ani', 'becaus', 'befor', 'could', 'doe', 'dure', 'might', 'must', \"n't\", 'need', 'onc', 'onli', 'ourselv', 'sha', 'themselv', 'veri', 'whi', 'wo', 'would', 'yourselv'] not in stop_words.\n",
      "  warnings.warn(\n"
     ]
    },
    {
     "name": "stdout",
     "output_type": "stream",
     "text": [
      "CPU times: user 24.5 s, sys: 53.5 ms, total: 24.6 s\n",
      "Wall time: 25.2 s\n"
     ]
    },
    {
     "data": {
      "text/plain": [
       "CountVectorizer(max_features=1000,\n",
       "                stop_words=['i', 'me', 'my', 'myself', 'we', 'our', 'ours',\n",
       "                            'ourselves', 'you', \"you're\", \"you've\", \"you'll\",\n",
       "                            \"you'd\", 'your', 'yours', 'yourself', 'yourselves',\n",
       "                            'he', 'him', 'his', 'himself', 'she', \"she's\",\n",
       "                            'her', 'hers', 'herself', 'it', \"it's\", 'its',\n",
       "                            'itself', ...],\n",
       "                tokenizer=<function tokenize at 0x7f5762f5ed30>)"
      ]
     },
     "execution_count": 89,
     "metadata": {},
     "output_type": "execute_result"
    }
   ],
   "source": [
    "%%time\n",
    "vectorizer.fit(sample_df.question_text)"
   ]
  },
  {
   "cell_type": "code",
   "execution_count": 90,
   "metadata": {
    "colab": {
     "base_uri": "https://localhost:8080/"
    },
    "executionInfo": {
     "elapsed": 2068,
     "status": "ok",
     "timestamp": 1667915449808,
     "user": {
      "displayName": "Aakash N S",
      "userId": "03254185060287524023"
     },
     "user_tz": -330
    },
    "id": "sJBlLm5Ye88Z",
    "outputId": "e8ad80f8-cd4d-4289-fd26-163dc808e69f"
   },
   "outputs": [
    {
     "data": {
      "text/plain": [
       "1000"
      ]
     },
     "execution_count": 90,
     "metadata": {},
     "output_type": "execute_result"
    }
   ],
   "source": [
    "len(vectorizer.vocabulary_)"
   ]
  },
  {
   "cell_type": "code",
   "execution_count": 91,
   "metadata": {
    "colab": {
     "base_uri": "https://localhost:8080/"
    },
    "executionInfo": {
     "elapsed": 1059,
     "status": "ok",
     "timestamp": 1667915475499,
     "user": {
      "displayName": "Aakash N S",
      "userId": "03254185060287524023"
     },
     "user_tz": -330
    },
    "id": "b9K638h1gg5_",
    "outputId": "955fe2e0-52ab-4137-9ecc-f18a64542e45"
   },
   "outputs": [
    {
     "data": {
      "text/plain": [
       "array(['!', '$', '%', '&', \"'\", \"''\", \"'m\", \"'s\", '(', ')', ',', '-', '.',\n",
       "       '1', '10', '100', '12', '12th', '15', '2', '20', '2017', '2018',\n",
       "       '3', '4', '5', '6', '7', '8', ':', '?', '[', ']', '``', 'abl',\n",
       "       'abroad', 'abus', 'accept', 'access', 'accomplish', 'accord',\n",
       "       'account', 'achiev', 'act', 'action', 'activ', 'actor', 'actual',\n",
       "       'ad', 'add', 'address', 'admiss', 'adult', 'advanc', 'advantag',\n",
       "       'advic', 'affect', 'africa', 'african', 'age', 'agre', 'air',\n",
       "       'allow', 'almost', 'alon', 'alreadi', 'also', 'altern', 'alway',\n",
       "       'amazon', 'america', 'american', 'amount', 'analysi', 'android',\n",
       "       'ani', 'anim', 'anoth', 'answer', 'anxieti', 'anyon', 'anyth',\n",
       "       'apart', 'app', 'appear', 'appl', 'appli', 'applic', 'approach',\n",
       "       'arab', 'area', 'armi', 'around', 'art', 'asian', 'ask', 'associ',\n",
       "       'atheist', 'attack', 'attend'], dtype=object)"
      ]
     },
     "execution_count": 91,
     "metadata": {},
     "output_type": "execute_result"
    }
   ],
   "source": [
    "vectorizer.get_feature_names_out()[:100]"
   ]
  },
  {
   "cell_type": "code",
   "execution_count": 92,
   "metadata": {
    "colab": {
     "base_uri": "https://localhost:8080/"
    },
    "executionInfo": {
     "elapsed": 30784,
     "status": "ok",
     "timestamp": 1667915566857,
     "user": {
      "displayName": "Aakash N S",
      "userId": "03254185060287524023"
     },
     "user_tz": -330
    },
    "id": "n3iq65OsguTR",
    "outputId": "35c22bcd-b6c2-4629-9e83-ad81a29456ee"
   },
   "outputs": [
    {
     "name": "stdout",
     "output_type": "stream",
     "text": [
      "CPU times: user 25 s, sys: 6.92 ms, total: 25 s\n",
      "Wall time: 25.7 s\n"
     ]
    }
   ],
   "source": [
    "%%time\n",
    "inputs = vectorizer.transform(sample_df.question_text)"
   ]
  },
  {
   "cell_type": "code",
   "execution_count": 93,
   "metadata": {
    "colab": {
     "base_uri": "https://localhost:8080/"
    },
    "executionInfo": {
     "elapsed": 661,
     "status": "ok",
     "timestamp": 1667915574286,
     "user": {
      "displayName": "Aakash N S",
      "userId": "03254185060287524023"
     },
     "user_tz": -330
    },
    "id": "9aEbKIC0gg3o",
    "outputId": "a0f9fdcf-a53d-455d-bd49-691f1f737a47"
   },
   "outputs": [
    {
     "data": {
      "text/plain": [
       "(100000, 1000)"
      ]
     },
     "execution_count": 93,
     "metadata": {},
     "output_type": "execute_result"
    }
   ],
   "source": [
    "inputs.shape"
   ]
  },
  {
   "cell_type": "code",
   "execution_count": 95,
   "metadata": {
    "colab": {
     "base_uri": "https://localhost:8080/"
    },
    "executionInfo": {
     "elapsed": 2,
     "status": "ok",
     "timestamp": 1667915578819,
     "user": {
      "displayName": "Aakash N S",
      "userId": "03254185060287524023"
     },
     "user_tz": -330
    },
    "id": "meslQK7Le86I",
    "outputId": "d6cdab93-2640-43d0-d5fd-b907c201177d"
   },
   "outputs": [
    {
     "data": {
      "text/plain": [
       "'What is the most effective classroom management skill/technique to create a good learning environment?'"
      ]
     },
     "execution_count": 95,
     "metadata": {},
     "output_type": "execute_result"
    }
   ],
   "source": [
    "sample_df.question_text.values[0]"
   ]
  },
  {
   "cell_type": "code",
   "execution_count": 96,
   "metadata": {
    "colab": {
     "base_uri": "https://localhost:8080/",
     "height": 52
    },
    "executionInfo": {
     "elapsed": 652,
     "status": "ok",
     "timestamp": 1667915621850,
     "user": {
      "displayName": "Aakash N S",
      "userId": "03254185060287524023"
     },
     "user_tz": -330
    },
    "id": "ARTJ68oehHVR",
    "outputId": "83f27c51-7c51-4808-9450-489e5599776b"
   },
   "outputs": [
    {
     "name": "stdout",
     "output_type": "stream",
     "text": [
      "CPU times: user 1min 32s, sys: 63.6 ms, total: 1min 32s\n",
      "Wall time: 1min 32s\n"
     ]
    }
   ],
   "source": [
    "%%time\n",
    "test_inputs = vectorizer.transform(test_df.question_text)"
   ]
  },
  {
   "cell_type": "markdown",
   "metadata": {
    "id": "AyVwmOboQoJn"
   },
   "source": [
    "## ML Models for Text Classification\n",
    "\n",
    "Outline:\n",
    "\n",
    "- Create a training & validation set\n",
    "- Train a logistic regression model\n",
    "- Make predictions on training, validation & test data"
   ]
  },
  {
   "cell_type": "markdown",
   "metadata": {
    "id": "1CPsktK-iPgK"
   },
   "source": [
    "### Split into Training and Validation Set"
   ]
  },
  {
   "cell_type": "code",
   "execution_count": 97,
   "metadata": {
    "colab": {
     "base_uri": "https://localhost:8080/",
     "height": 424
    },
    "executionInfo": {
     "elapsed": 3,
     "status": "ok",
     "timestamp": 1667915931527,
     "user": {
      "displayName": "Aakash N S",
      "userId": "03254185060287524023"
     },
     "user_tz": -330
    },
    "id": "hoIv721biUVy",
    "outputId": "73a07b8c-ec27-495e-8ccd-9bb4c53e40da"
   },
   "outputs": [
    {
     "data": {
      "text/html": [
       "<div>\n",
       "<style scoped>\n",
       "    .dataframe tbody tr th:only-of-type {\n",
       "        vertical-align: middle;\n",
       "    }\n",
       "\n",
       "    .dataframe tbody tr th {\n",
       "        vertical-align: top;\n",
       "    }\n",
       "\n",
       "    .dataframe thead th {\n",
       "        text-align: right;\n",
       "    }\n",
       "</style>\n",
       "<table border=\"1\" class=\"dataframe\">\n",
       "  <thead>\n",
       "    <tr style=\"text-align: right;\">\n",
       "      <th></th>\n",
       "      <th>qid</th>\n",
       "      <th>question_text</th>\n",
       "      <th>target</th>\n",
       "    </tr>\n",
       "  </thead>\n",
       "  <tbody>\n",
       "    <tr>\n",
       "      <th>443046</th>\n",
       "      <td>56d324bb1e2c29f43b12</td>\n",
       "      <td>What is the most effective classroom managemen...</td>\n",
       "      <td>0</td>\n",
       "    </tr>\n",
       "    <tr>\n",
       "      <th>947549</th>\n",
       "      <td>b9ad893dc78c577f8a63</td>\n",
       "      <td>Can I study abroad after 10th class from Bangl...</td>\n",
       "      <td>0</td>\n",
       "    </tr>\n",
       "    <tr>\n",
       "      <th>523769</th>\n",
       "      <td>6689ebaeeb65b209a412</td>\n",
       "      <td>How can I make friends as a college junior?</td>\n",
       "      <td>0</td>\n",
       "    </tr>\n",
       "    <tr>\n",
       "      <th>949821</th>\n",
       "      <td>ba1e2c4a0fef09671516</td>\n",
       "      <td>How do I download free APK Minecraft: Pocket E...</td>\n",
       "      <td>0</td>\n",
       "    </tr>\n",
       "    <tr>\n",
       "      <th>1030397</th>\n",
       "      <td>c9ea2b69bf0d74626f46</td>\n",
       "      <td>Like Kuvera, is \"Groww\" also a free online inv...</td>\n",
       "      <td>0</td>\n",
       "    </tr>\n",
       "    <tr>\n",
       "      <th>...</th>\n",
       "      <td>...</td>\n",
       "      <td>...</td>\n",
       "      <td>...</td>\n",
       "    </tr>\n",
       "    <tr>\n",
       "      <th>998930</th>\n",
       "      <td>c3c03a307a29c69971b4</td>\n",
       "      <td>How do I research list of reliable charcoal im...</td>\n",
       "      <td>0</td>\n",
       "    </tr>\n",
       "    <tr>\n",
       "      <th>66641</th>\n",
       "      <td>0d119aba95ee6684f506</td>\n",
       "      <td>What are petroleum products, and what is petro...</td>\n",
       "      <td>0</td>\n",
       "    </tr>\n",
       "    <tr>\n",
       "      <th>90024</th>\n",
       "      <td>11a46cd148a104b271cf</td>\n",
       "      <td>What are some services that will let you quick...</td>\n",
       "      <td>0</td>\n",
       "    </tr>\n",
       "    <tr>\n",
       "      <th>130113</th>\n",
       "      <td>1973e6e2111a0c93193a</td>\n",
       "      <td>What credit card processors do online marketpl...</td>\n",
       "      <td>0</td>\n",
       "    </tr>\n",
       "    <tr>\n",
       "      <th>1137</th>\n",
       "      <td>0037ed037520d82393c0</td>\n",
       "      <td>On which number system does a computer work?</td>\n",
       "      <td>0</td>\n",
       "    </tr>\n",
       "  </tbody>\n",
       "</table>\n",
       "<p>100000 rows × 3 columns</p>\n",
       "</div>"
      ],
      "text/plain": [
       "                          qid  \\\n",
       "443046   56d324bb1e2c29f43b12   \n",
       "947549   b9ad893dc78c577f8a63   \n",
       "523769   6689ebaeeb65b209a412   \n",
       "949821   ba1e2c4a0fef09671516   \n",
       "1030397  c9ea2b69bf0d74626f46   \n",
       "...                       ...   \n",
       "998930   c3c03a307a29c69971b4   \n",
       "66641    0d119aba95ee6684f506   \n",
       "90024    11a46cd148a104b271cf   \n",
       "130113   1973e6e2111a0c93193a   \n",
       "1137     0037ed037520d82393c0   \n",
       "\n",
       "                                             question_text  target  \n",
       "443046   What is the most effective classroom managemen...       0  \n",
       "947549   Can I study abroad after 10th class from Bangl...       0  \n",
       "523769         How can I make friends as a college junior?       0  \n",
       "949821   How do I download free APK Minecraft: Pocket E...       0  \n",
       "1030397  Like Kuvera, is \"Groww\" also a free online inv...       0  \n",
       "...                                                    ...     ...  \n",
       "998930   How do I research list of reliable charcoal im...       0  \n",
       "66641    What are petroleum products, and what is petro...       0  \n",
       "90024    What are some services that will let you quick...       0  \n",
       "130113   What credit card processors do online marketpl...       0  \n",
       "1137          On which number system does a computer work?       0  \n",
       "\n",
       "[100000 rows x 3 columns]"
      ]
     },
     "execution_count": 97,
     "metadata": {},
     "output_type": "execute_result"
    }
   ],
   "source": [
    "sample_df"
   ]
  },
  {
   "cell_type": "code",
   "execution_count": 98,
   "metadata": {
    "colab": {
     "base_uri": "https://localhost:8080/"
    },
    "executionInfo": {
     "elapsed": 613,
     "status": "ok",
     "timestamp": 1667915949798,
     "user": {
      "displayName": "Aakash N S",
      "userId": "03254185060287524023"
     },
     "user_tz": -330
    },
    "id": "ckPyKMcMRBET",
    "outputId": "0bb74251-5275-42ed-b60a-eb763113e3c0"
   },
   "outputs": [
    {
     "data": {
      "text/plain": [
       "(100000, 1000)"
      ]
     },
     "execution_count": 98,
     "metadata": {},
     "output_type": "execute_result"
    }
   ],
   "source": [
    "inputs.shape"
   ]
  },
  {
   "cell_type": "code",
   "execution_count": 101,
   "metadata": {},
   "outputs": [],
   "source": [
    "from sklearn.model_selection import train_test_split"
   ]
  },
  {
   "cell_type": "code",
   "execution_count": 102,
   "metadata": {
    "executionInfo": {
     "elapsed": 364,
     "status": "ok",
     "timestamp": 1667916089349,
     "user": {
      "displayName": "Aakash N S",
      "userId": "03254185060287524023"
     },
     "user_tz": -330
    },
    "id": "m3eE_6y6ieLP"
   },
   "outputs": [],
   "source": [
    "train_inputs, val_inputs, train_targets, val_targets = train_test_split(inputs, sample_df.target, \n",
    "                                                                        test_size=0.3, random_state=42)"
   ]
  },
  {
   "cell_type": "markdown",
   "metadata": {
    "id": "bBAcDSenjMSk"
   },
   "source": [
    "### Train Logistic Regression model"
   ]
  },
  {
   "cell_type": "code",
   "execution_count": 103,
   "metadata": {
    "executionInfo": {
     "elapsed": 535,
     "status": "ok",
     "timestamp": 1667916194680,
     "user": {
      "displayName": "Aakash N S",
      "userId": "03254185060287524023"
     },
     "user_tz": -330
    },
    "id": "tURg-O4pjMmX"
   },
   "outputs": [],
   "source": [
    "from sklearn.linear_model import LogisticRegression"
   ]
  },
  {
   "cell_type": "code",
   "execution_count": 104,
   "metadata": {
    "executionInfo": {
     "elapsed": 373,
     "status": "ok",
     "timestamp": 1667918920336,
     "user": {
      "displayName": "Aakash N S",
      "userId": "03254185060287524023"
     },
     "user_tz": -330
    },
    "id": "aqk9RFIYj9tu"
   },
   "outputs": [],
   "source": [
    "MAX_ITER = 1000"
   ]
  },
  {
   "cell_type": "code",
   "execution_count": 105,
   "metadata": {
    "executionInfo": {
     "elapsed": 626,
     "status": "ok",
     "timestamp": 1667916401162,
     "user": {
      "displayName": "Aakash N S",
      "userId": "03254185060287524023"
     },
     "user_tz": -330
    },
    "id": "uUQ0wzNIjNHr"
   },
   "outputs": [],
   "source": [
    "model = LogisticRegression(max_iter=MAX_ITER, solver='sag')"
   ]
  },
  {
   "cell_type": "code",
   "execution_count": 106,
   "metadata": {
    "colab": {
     "base_uri": "https://localhost:8080/"
    },
    "executionInfo": {
     "elapsed": 27440,
     "status": "ok",
     "timestamp": 1667916434501,
     "user": {
      "displayName": "Aakash N S",
      "userId": "03254185060287524023"
     },
     "user_tz": -330
    },
    "id": "fOehu5rLjNFl",
    "outputId": "319e0d60-e7db-4851-d7a5-1bcefd58f239"
   },
   "outputs": [
    {
     "name": "stdout",
     "output_type": "stream",
     "text": [
      "CPU times: user 12.6 s, sys: 7.8 ms, total: 12.6 s\n",
      "Wall time: 12.7 s\n"
     ]
    },
    {
     "name": "stderr",
     "output_type": "stream",
     "text": [
      "/opt/conda/lib/python3.9/site-packages/sklearn/linear_model/_sag.py:352: ConvergenceWarning: The max_iter was reached which means the coef_ did not converge\n",
      "  warnings.warn(\n"
     ]
    },
    {
     "data": {
      "text/plain": [
       "LogisticRegression(max_iter=1000, solver='sag')"
      ]
     },
     "execution_count": 106,
     "metadata": {},
     "output_type": "execute_result"
    }
   ],
   "source": [
    "%%time\n",
    "model.fit(train_inputs, train_targets)"
   ]
  },
  {
   "cell_type": "markdown",
   "metadata": {
    "id": "o16-8HmXmQT0"
   },
   "source": [
    "### Make predictions using the model"
   ]
  },
  {
   "cell_type": "code",
   "execution_count": 107,
   "metadata": {
    "executionInfo": {
     "elapsed": 1020,
     "status": "ok",
     "timestamp": 1667916460185,
     "user": {
      "displayName": "Aakash N S",
      "userId": "03254185060287524023"
     },
     "user_tz": -330
    },
    "id": "i12DBlkVkThU"
   },
   "outputs": [],
   "source": [
    "train_preds = model.predict(train_inputs)"
   ]
  },
  {
   "cell_type": "code",
   "execution_count": 108,
   "metadata": {
    "colab": {
     "base_uri": "https://localhost:8080/"
    },
    "executionInfo": {
     "elapsed": 363,
     "status": "ok",
     "timestamp": 1667916573761,
     "user": {
      "displayName": "Aakash N S",
      "userId": "03254185060287524023"
     },
     "user_tz": -330
    },
    "id": "urNCyppPkxZB",
    "outputId": "71349a02-b3a6-4b44-d87f-727dde95605e"
   },
   "outputs": [
    {
     "data": {
      "text/plain": [
       "array([0, 0, 0, ..., 0, 0, 0])"
      ]
     },
     "execution_count": 108,
     "metadata": {},
     "output_type": "execute_result"
    }
   ],
   "source": [
    "train_preds"
   ]
  },
  {
   "cell_type": "code",
   "execution_count": 109,
   "metadata": {
    "colab": {
     "base_uri": "https://localhost:8080/"
    },
    "executionInfo": {
     "elapsed": 861,
     "status": "ok",
     "timestamp": 1667916464475,
     "user": {
      "displayName": "Aakash N S",
      "userId": "03254185060287524023"
     },
     "user_tz": -330
    },
    "id": "qS8PDYxljNDP",
    "outputId": "9216c5a9-c9aa-4d6a-d540-e804d4d3c925"
   },
   "outputs": [],
   "source": [
    "from sklearn.metrics import accuracy_score"
   ]
  },
  {
   "cell_type": "code",
   "execution_count": 110,
   "metadata": {
    "colab": {
     "base_uri": "https://localhost:8080/"
    },
    "executionInfo": {
     "elapsed": 567,
     "status": "ok",
     "timestamp": 1667916484628,
     "user": {
      "displayName": "Aakash N S",
      "userId": "03254185060287524023"
     },
     "user_tz": -330
    },
    "id": "W74eTiJgjNA9",
    "outputId": "4f1aa29b-d959-4561-9384-a83fc36ca13d"
   },
   "outputs": [
    {
     "data": {
      "text/plain": [
       "0.9504428571428571"
      ]
     },
     "execution_count": 110,
     "metadata": {},
     "output_type": "execute_result"
    }
   ],
   "source": [
    "accuracy_score(train_targets, train_preds)"
   ]
  },
  {
   "cell_type": "code",
   "execution_count": 111,
   "metadata": {
    "colab": {
     "base_uri": "https://localhost:8080/"
    },
    "executionInfo": {
     "elapsed": 1125,
     "status": "ok",
     "timestamp": 1667916512008,
     "user": {
      "displayName": "Aakash N S",
      "userId": "03254185060287524023"
     },
     "user_tz": -330
    },
    "id": "pixsvLxrkhK4",
    "outputId": "44819bce-587f-41e3-cb6b-55e67b8c7c84"
   },
   "outputs": [],
   "source": [
    "import numpy as np"
   ]
  },
  {
   "cell_type": "code",
   "execution_count": 112,
   "metadata": {
    "executionInfo": {
     "elapsed": 370,
     "status": "ok",
     "timestamp": 1667916547769,
     "user": {
      "displayName": "Aakash N S",
      "userId": "03254185060287524023"
     },
     "user_tz": -330
    },
    "id": "YxH33IpFkpXJ"
   },
   "outputs": [
    {
     "data": {
      "text/plain": [
       "0.9397714285714286"
      ]
     },
     "execution_count": 112,
     "metadata": {},
     "output_type": "execute_result"
    }
   ],
   "source": [
    "accuracy_score(train_targets, np.zeros(len(train_targets)))"
   ]
  },
  {
   "cell_type": "code",
   "execution_count": 113,
   "metadata": {
    "colab": {
     "base_uri": "https://localhost:8080/"
    },
    "executionInfo": {
     "elapsed": 893,
     "status": "ok",
     "timestamp": 1667916561938,
     "user": {
      "displayName": "Aakash N S",
      "userId": "03254185060287524023"
     },
     "user_tz": -330
    },
    "id": "oUgKam9RkYD6",
    "outputId": "dfc12873-4db8-4993-ad67-bbf6456d8b18"
   },
   "outputs": [],
   "source": [
    "from sklearn.metrics import f1_score"
   ]
  },
  {
   "cell_type": "code",
   "execution_count": 114,
   "metadata": {
    "executionInfo": {
     "elapsed": 373,
     "status": "ok",
     "timestamp": 1667916643295,
     "user": {
      "displayName": "Aakash N S",
      "userId": "03254185060287524023"
     },
     "user_tz": -330
    },
    "id": "ipzg1inClCcJ"
   },
   "outputs": [
    {
     "data": {
      "text/plain": [
       "0.4457581083240134"
      ]
     },
     "execution_count": 114,
     "metadata": {},
     "output_type": "execute_result"
    }
   ],
   "source": [
    "f1_score(train_targets, train_preds)"
   ]
  },
  {
   "cell_type": "code",
   "execution_count": 115,
   "metadata": {
    "colab": {
     "base_uri": "https://localhost:8080/"
    },
    "executionInfo": {
     "elapsed": 620,
     "status": "ok",
     "timestamp": 1667916647313,
     "user": {
      "displayName": "Aakash N S",
      "userId": "03254185060287524023"
     },
     "user_tz": -330
    },
    "id": "_P-IsOtTk5x_",
    "outputId": "3aed16ea-c1ab-4c6c-db22-cc083ebe1278"
   },
   "outputs": [
    {
     "data": {
      "text/plain": [
       "0.0"
      ]
     },
     "execution_count": 115,
     "metadata": {},
     "output_type": "execute_result"
    }
   ],
   "source": [
    "f1_score(train_targets, np.zeros(len(train_targets)))"
   ]
  },
  {
   "cell_type": "code",
   "execution_count": 116,
   "metadata": {
    "executionInfo": {
     "elapsed": 896,
     "status": "ok",
     "timestamp": 1667916682226,
     "user": {
      "displayName": "Aakash N S",
      "userId": "03254185060287524023"
     },
     "user_tz": -330
    },
    "id": "89TtZhqclKwb"
   },
   "outputs": [
    {
     "data": {
      "text/plain": [
       "0.10694426812238161"
      ]
     },
     "execution_count": 116,
     "metadata": {},
     "output_type": "execute_result"
    }
   ],
   "source": [
    "random_preds = np.random.choice((0, 1), len(train_targets))\n",
    "f1_score(train_targets, random_preds)"
   ]
  },
  {
   "cell_type": "code",
   "execution_count": 117,
   "metadata": {
    "colab": {
     "base_uri": "https://localhost:8080/"
    },
    "executionInfo": {
     "elapsed": 476,
     "status": "ok",
     "timestamp": 1667916695952,
     "user": {
      "displayName": "Aakash N S",
      "userId": "03254185060287524023"
     },
     "user_tz": -330
    },
    "id": "pim_sjENlKn0",
    "outputId": "a919cf7d-3c6b-42ce-c99e-e2da856291ab"
   },
   "outputs": [],
   "source": [
    "val_preds = model.predict(val_inputs)"
   ]
  },
  {
   "cell_type": "code",
   "execution_count": 118,
   "metadata": {
    "colab": {
     "base_uri": "https://localhost:8080/"
    },
    "executionInfo": {
     "elapsed": 375,
     "status": "ok",
     "timestamp": 1667916720434,
     "user": {
      "displayName": "Aakash N S",
      "userId": "03254185060287524023"
     },
     "user_tz": -330
    },
    "id": "RembBU-Fksbk",
    "outputId": "9c815608-6f06-45d9-c352-d52ad659c965"
   },
   "outputs": [
    {
     "data": {
      "text/plain": [
       "0.40843507214206437"
      ]
     },
     "execution_count": 118,
     "metadata": {},
     "output_type": "execute_result"
    }
   ],
   "source": [
    "f1_score(val_targets, val_preds)"
   ]
  },
  {
   "cell_type": "code",
   "execution_count": 119,
   "metadata": {
    "colab": {
     "base_uri": "https://localhost:8080/"
    },
    "executionInfo": {
     "elapsed": 530,
     "status": "ok",
     "timestamp": 1667916804410,
     "user": {
      "displayName": "Aakash N S",
      "userId": "03254185060287524023"
     },
     "user_tz": -330
    },
    "id": "43hI8WB8ld0e",
    "outputId": "36a47c48-a715-47a9-9698-92c5eec0cd7f"
   },
   "outputs": [
    {
     "data": {
      "text/plain": [
       "array(['How did Quebec nationalists see their province as a nation in the 1960s?',\n",
       "       'Do you have an adopted dog, how would you encourage people to adopt and not shop?',\n",
       "       'Why does velocity affect time? Does velocity affect space geometry?',\n",
       "       'How did Otto von Guericke used the Magdeburg hemispheres?',\n",
       "       'Can I convert montra helicon D to a mountain bike by just changing the tyres?',\n",
       "       'Is Gaza slowly becoming Auschwitz, Dachau or Treblinka for Palestinians?',\n",
       "       'Why does Quora automatically ban conservative opinions when reported, but does not do the same for liberal views?',\n",
       "       'Is it crazy if I wash or wipe my groceries off? Germs are everywhere.',\n",
       "       'Is there such a thing as dressing moderately, and if so, how is that different than dressing modestly?',\n",
       "       'Is it just me or have you ever been in this phase wherein you became ignorant to the people you once loved, completely disregarding their feelings/lives so you get to have something go your way and feel temporarily at ease. How did things change?'],\n",
       "      dtype=object)"
      ]
     },
     "execution_count": 119,
     "metadata": {},
     "output_type": "execute_result"
    }
   ],
   "source": [
    "sincere_df.question_text.values[:10]"
   ]
  },
  {
   "cell_type": "code",
   "execution_count": 120,
   "metadata": {
    "executionInfo": {
     "elapsed": 394,
     "status": "ok",
     "timestamp": 1667916889103,
     "user": {
      "displayName": "Aakash N S",
      "userId": "03254185060287524023"
     },
     "user_tz": -330
    },
    "id": "FM0X5ImAl7gB"
   },
   "outputs": [
    {
     "data": {
      "text/plain": [
       "array([0, 0, 0, 0, 0, 0, 1, 0, 0, 0])"
      ]
     },
     "execution_count": 120,
     "metadata": {},
     "output_type": "execute_result"
    }
   ],
   "source": [
    "model.predict(vectorizer.transform(sincere_df.question_text.values[:10]))"
   ]
  },
  {
   "cell_type": "code",
   "execution_count": 121,
   "metadata": {
    "colab": {
     "base_uri": "https://localhost:8080/"
    },
    "executionInfo": {
     "elapsed": 592,
     "status": "ok",
     "timestamp": 1667916920449,
     "user": {
      "displayName": "Aakash N S",
      "userId": "03254185060287524023"
     },
     "user_tz": -330
    },
    "id": "WiXz18lal7db",
    "outputId": "1199b1c7-51b2-4c95-d83e-d945e1541bf9"
   },
   "outputs": [
    {
     "data": {
      "text/plain": [
       "array([0, 0, 1, 1, 0, 0, 0, 1, 0, 0])"
      ]
     },
     "execution_count": 121,
     "metadata": {},
     "output_type": "execute_result"
    }
   ],
   "source": [
    "model.predict(vectorizer.transform(insincere_df.question_text.values[:10]))"
   ]
  },
  {
   "cell_type": "markdown",
   "metadata": {
    "id": "TSFA3r48Q2ec"
   },
   "source": [
    "## Make Predictions and Submit to Kaggle"
   ]
  },
  {
   "cell_type": "code",
   "execution_count": 122,
   "metadata": {
    "colab": {
     "base_uri": "https://localhost:8080/",
     "height": 424
    },
    "executionInfo": {
     "elapsed": 1103,
     "status": "ok",
     "timestamp": 1667917318912,
     "user": {
      "displayName": "Aakash N S",
      "userId": "03254185060287524023"
     },
     "user_tz": -330
    },
    "id": "bIAZhmcWQDd4",
    "outputId": "e92eb5e4-41ad-4590-da74-d9b14dc9697a"
   },
   "outputs": [
    {
     "data": {
      "text/html": [
       "<div>\n",
       "<style scoped>\n",
       "    .dataframe tbody tr th:only-of-type {\n",
       "        vertical-align: middle;\n",
       "    }\n",
       "\n",
       "    .dataframe tbody tr th {\n",
       "        vertical-align: top;\n",
       "    }\n",
       "\n",
       "    .dataframe thead th {\n",
       "        text-align: right;\n",
       "    }\n",
       "</style>\n",
       "<table border=\"1\" class=\"dataframe\">\n",
       "  <thead>\n",
       "    <tr style=\"text-align: right;\">\n",
       "      <th></th>\n",
       "      <th>qid</th>\n",
       "      <th>question_text</th>\n",
       "    </tr>\n",
       "  </thead>\n",
       "  <tbody>\n",
       "    <tr>\n",
       "      <th>0</th>\n",
       "      <td>0000163e3ea7c7a74cd7</td>\n",
       "      <td>Why do so many women become so rude and arroga...</td>\n",
       "    </tr>\n",
       "    <tr>\n",
       "      <th>1</th>\n",
       "      <td>00002bd4fb5d505b9161</td>\n",
       "      <td>When should I apply for RV college of engineer...</td>\n",
       "    </tr>\n",
       "    <tr>\n",
       "      <th>2</th>\n",
       "      <td>00007756b4a147d2b0b3</td>\n",
       "      <td>What is it really like to be a nurse practitio...</td>\n",
       "    </tr>\n",
       "    <tr>\n",
       "      <th>3</th>\n",
       "      <td>000086e4b7e1c7146103</td>\n",
       "      <td>Who are entrepreneurs?</td>\n",
       "    </tr>\n",
       "    <tr>\n",
       "      <th>4</th>\n",
       "      <td>0000c4c3fbe8785a3090</td>\n",
       "      <td>Is education really making good people nowadays?</td>\n",
       "    </tr>\n",
       "    <tr>\n",
       "      <th>...</th>\n",
       "      <td>...</td>\n",
       "      <td>...</td>\n",
       "    </tr>\n",
       "    <tr>\n",
       "      <th>375801</th>\n",
       "      <td>ffff7fa746bd6d6197a9</td>\n",
       "      <td>How many countries listed in gold import in in...</td>\n",
       "    </tr>\n",
       "    <tr>\n",
       "      <th>375802</th>\n",
       "      <td>ffffa1be31c43046ab6b</td>\n",
       "      <td>Is there an alternative to dresses on formal p...</td>\n",
       "    </tr>\n",
       "    <tr>\n",
       "      <th>375803</th>\n",
       "      <td>ffffae173b6ca6bfa563</td>\n",
       "      <td>Where I can find best friendship quotes in Tel...</td>\n",
       "    </tr>\n",
       "    <tr>\n",
       "      <th>375804</th>\n",
       "      <td>ffffb1f7f1a008620287</td>\n",
       "      <td>What are the causes of refraction of light?</td>\n",
       "    </tr>\n",
       "    <tr>\n",
       "      <th>375805</th>\n",
       "      <td>fffff85473f4699474b0</td>\n",
       "      <td>Climate change is a worrying topic. How much t...</td>\n",
       "    </tr>\n",
       "  </tbody>\n",
       "</table>\n",
       "<p>375806 rows × 2 columns</p>\n",
       "</div>"
      ],
      "text/plain": [
       "                         qid  \\\n",
       "0       0000163e3ea7c7a74cd7   \n",
       "1       00002bd4fb5d505b9161   \n",
       "2       00007756b4a147d2b0b3   \n",
       "3       000086e4b7e1c7146103   \n",
       "4       0000c4c3fbe8785a3090   \n",
       "...                      ...   \n",
       "375801  ffff7fa746bd6d6197a9   \n",
       "375802  ffffa1be31c43046ab6b   \n",
       "375803  ffffae173b6ca6bfa563   \n",
       "375804  ffffb1f7f1a008620287   \n",
       "375805  fffff85473f4699474b0   \n",
       "\n",
       "                                            question_text  \n",
       "0       Why do so many women become so rude and arroga...  \n",
       "1       When should I apply for RV college of engineer...  \n",
       "2       What is it really like to be a nurse practitio...  \n",
       "3                                  Who are entrepreneurs?  \n",
       "4        Is education really making good people nowadays?  \n",
       "...                                                   ...  \n",
       "375801  How many countries listed in gold import in in...  \n",
       "375802  Is there an alternative to dresses on formal p...  \n",
       "375803  Where I can find best friendship quotes in Tel...  \n",
       "375804        What are the causes of refraction of light?  \n",
       "375805  Climate change is a worrying topic. How much t...  \n",
       "\n",
       "[375806 rows x 2 columns]"
      ]
     },
     "execution_count": 122,
     "metadata": {},
     "output_type": "execute_result"
    }
   ],
   "source": [
    "test_df"
   ]
  },
  {
   "cell_type": "code",
   "execution_count": 123,
   "metadata": {
    "colab": {
     "base_uri": "https://localhost:8080/"
    },
    "executionInfo": {
     "elapsed": 460,
     "status": "ok",
     "timestamp": 1667917332470,
     "user": {
      "displayName": "Aakash N S",
      "userId": "03254185060287524023"
     },
     "user_tz": -330
    },
    "id": "jzb8x69DnoHz",
    "outputId": "23a5695e-d7b4-49ae-c715-2360925ad007"
   },
   "outputs": [],
   "source": [
    "test_preds = model.predict(test_inputs)"
   ]
  },
  {
   "cell_type": "code",
   "execution_count": 124,
   "metadata": {
    "executionInfo": {
     "elapsed": 1112,
     "status": "ok",
     "timestamp": 1667917351071,
     "user": {
      "displayName": "Aakash N S",
      "userId": "03254185060287524023"
     },
     "user_tz": -330
    },
    "id": "oiY8Ai-anqRP"
   },
   "outputs": [],
   "source": [
    "sub_df.prediction = test_preds"
   ]
  },
  {
   "cell_type": "code",
   "execution_count": 125,
   "metadata": {
    "colab": {
     "base_uri": "https://localhost:8080/",
     "height": 424
    },
    "executionInfo": {
     "elapsed": 558,
     "status": "ok",
     "timestamp": 1667917386054,
     "user": {
      "displayName": "Aakash N S",
      "userId": "03254185060287524023"
     },
     "user_tz": -330
    },
    "id": "W8h1xhbZnwBt",
    "outputId": "6698c104-0bd3-4c8a-b12f-6e59feac67a3"
   },
   "outputs": [],
   "source": [
    "sub_df.to_csv('submission.csv', index=None)"
   ]
  },
  {
   "cell_type": "code",
   "execution_count": 127,
   "metadata": {
    "executionInfo": {
     "elapsed": 4,
     "status": "ok",
     "timestamp": 1667917429135,
     "user": {
      "displayName": "Aakash N S",
      "userId": "03254185060287524023"
     },
     "user_tz": -330
    },
    "id": "t6xxbg4yn9pT"
   },
   "outputs": [
    {
     "data": {
      "text/plain": [
       "0    364964\n",
       "1     10842\n",
       "Name: prediction, dtype: int64"
      ]
     },
     "execution_count": 127,
     "metadata": {},
     "output_type": "execute_result"
    }
   ],
   "source": [
    "sub_df.prediction.value_counts()"
   ]
  }
 ],
 "metadata": {
  "colab": {
   "collapsed_sections": [],
   "machine_shape": "hm",
   "provenance": []
  },
  "gpuClass": "standard",
  "kernelspec": {
   "display_name": "Python 3 (ipykernel)",
   "language": "python",
   "name": "python3"
  },
  "language_info": {
   "codemirror_mode": {
    "name": "ipython",
    "version": 3
   },
   "file_extension": ".py",
   "mimetype": "text/x-python",
   "name": "python",
   "nbconvert_exporter": "python",
   "pygments_lexer": "ipython3",
   "version": "3.9.7"
  }
 },
 "nbformat": 4,
 "nbformat_minor": 1
}
